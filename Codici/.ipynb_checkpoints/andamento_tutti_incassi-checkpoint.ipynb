
{
 "cells": [
  {
   "cell_type": "code",
   "execution_count": 1,
   "id": "initial_id",
   "metadata": {
    "collapsed": true,
    "ExecuteTime": {
     "end_time": "2024-01-31T16:43:33.228536200Z",
     "start_time": "2024-01-31T16:43:32.455500100Z"
    }
   },
   "outputs": [
    {
     "data": {
      "text/plain": "interactive(children=(SelectMultiple(description='Select Ranks', index=(0, 1, 2, 3, 4), options=(1, 2, 3, 4, 5…",
      "application/vnd.jupyter.widget-view+json": {
       "version_major": 2,
       "version_minor": 0,
       "model_id": "568cb95c6f6f4f7fb6afa9e004e3b6aa"
      }
     },
     "metadata": {},
     "output_type": "display_data"
    },
    {
     "data": {
      "text/plain": "<function __main__.plot_top_movies_trends(selected_ranks)>"
     },
     "execution_count": 1,
     "metadata": {},
     "output_type": "execute_result"
    }
   ],
   "source": [
    "import pandas as pd\n",
    "import plotly.express as px\n",
    "from ipywidgets import interact, widgets\n",
    "import re\n",
    "\n",
    "# Suppress FutureWarnings\n",
    "import warnings\n",
    "warnings.simplefilter(action='ignore', category=FutureWarning)\n",
    "\n",
    "def plot_top_movies_trends(selected_ranks):\n",
    "    top_movies_data = []\n",
    "\n",
    "    for year in range(1977, 2025):\n",
    "        file_path = f'../ranking_summary_{year}.csv'\n",
    "\n",
    "        try:\n",
    "            df_data = pd.read_csv(file_path)\n",
    "            df_data['worldwide'] = df_data['worldwide'].replace('[\\$,]', '', regex=True).astype(float)\n",
    "            df_data = df_data.sort_values(by='worldwide', ascending=False)\n",
    "\n",
    "            match = re.search(r'_(\\d{4})\\.csv', file_path)\n",
    "            if match:\n",
    "                plot_year = int(match.group(1))\n",
    "            else:\n",
    "                plot_year = None\n",
    "\n",
    "            for index, row in df_data.head(5).iterrows():  # Visualizza solo i primi 5 rank\n",
    "                if row['rank'] in selected_ranks:\n",
    "                    top_movies_data.append({'Year': plot_year, 'Earnings': row['worldwide'],\n",
    "                                            'Title': row['title'], 'Rank': row['rank']})\n",
    "        except FileNotFoundError:\n",
    "            continue\n",
    "\n",
    "    top_movies_df = pd.DataFrame(top_movies_data)\n",
    "    top_movies_df = top_movies_df.sort_values(by=['Year', 'Rank'])\n",
    "\n",
    "    # Crea il grafico a linee per mostrare il trend di ogni rank\n",
    "    fig = px.line(top_movies_df, x='Year', y='Earnings', color='Rank',\n",
    "                  labels={'Year': 'Year', 'Earnings': 'Worldwide Box Office Earnings (in billions)'},\n",
    "                  title='Trends of Top 5 Movie Ranks Over the Years',\n",
    "                  hover_data={'Title': True, 'Earnings': ':,.2f', 'Rank': True},\n",
    "                  height=600)  # Imposta l'altezza del grafico a 600 pixel\n",
    "\n",
    "    # Rimuovi i punti neri che evidenziano i massimi guadagni\n",
    "    fig.update_traces(marker=dict(color='black'), selector=dict(type='scatter', mode='markers'))\n",
    "\n",
    "    # Mostra il grafico interattivo\n",
    "    fig.show()\n",
    "\n",
    "# Crea un widget per selezionare i rank da visualizzare\n",
    "rank_selector = widgets.SelectMultiple(options=[1, 2, 3, 4, 5], value=[1, 2, 3, 4, 5], description='Select Ranks')\n",
    "\n",
    "# Crea l'interfaccia interattiva\n",
    "interact(plot_top_movies_trends, selected_ranks=rank_selector)\n"
   ]
  },
  {
   "cell_type": "code",
   "outputs": [],
   "source": [],
   "metadata": {
    "collapsed": false
   },
   "id": "aac0eac5dea129da"
  }
 ],
 "metadata": {
  "kernelspec": {
   "display_name": "Python 3",
   "language": "python",
   "name": "python3"
  },
  "language_info": {
   "codemirror_mode": {
    "name": "ipython",
    "version": 2
   },
   "file_extension": ".py",
   "mimetype": "text/x-python",
   "name": "python",
   "nbconvert_exporter": "python",
   "pygments_lexer": "ipython2",
   "version": "2.7.6"
  }
 },
 "nbformat": 4,
 "nbformat_minor": 5
}
