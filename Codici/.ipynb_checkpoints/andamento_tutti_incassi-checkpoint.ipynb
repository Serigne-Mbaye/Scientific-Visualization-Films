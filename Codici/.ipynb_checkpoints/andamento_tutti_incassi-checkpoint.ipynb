{
 "cells": [
  {
   "cell_type": "code",
   "execution_count": 2,
   "id": "initial_id",
   "metadata": {
    "ExecuteTime": {
     "end_time": "2024-02-06T11:44:20.952880400Z",
     "start_time": "2024-02-06T11:44:20.804077100Z"
    }
   },
   "outputs": [
    {
     "data": {
      "application/vnd.plotly.v1+json": {
       "data": [
        {
         "customdata": [
          [
           "Star Wars: Episode IV - A New Hope",
           1
          ],
          [
           "Grease",
           1
          ],
          [
           "Kramer vs. Kramer",
           1
          ],
          [
           "Star Wars: Episode V - The Empire Strikes Back",
           1
          ],
          [
           "Superman II",
           1
          ],
          [
           "E.T. the Extra-Terrestrial",
           1
          ],
          [
           "Star Wars: Episode VI - Return of the Jedi",
           1
          ],
          [
           "Beverly Hills Cop",
           1
          ],
          [
           "Out of Africa",
           1
          ],
          [
           "Top Gun",
           1
          ],
          [
           "Three Men and a Baby",
           1
          ],
          [
           "Who Framed Roger Rabbit",
           1
          ],
          [
           "Batman",
           1
          ],
          [
           "Home Alone",
           1
          ],
          [
           "Beauty and the Beast",
           1
          ],
          [
           "Aladdin",
           1
          ],
          [
           "Jurassic Park",
           1
          ],
          [
           "The Lion King",
           1
          ],
          [
           "Toy Story",
           1
          ],
          [
           "Independence Day",
           1
          ],
          [
           "Titanic",
           1
          ],
          [
           "Armageddon",
           1
          ],
          [
           "Star Wars: Episode I - The Phantom Menace",
           1
          ],
          [
           "Mission: Impossible II",
           1
          ],
          [
           "Harry Potter and the Sorcerer's Stone",
           1
          ],
          [
           "The Lord of the Rings: The Two Towers",
           1
          ],
          [
           "The Lord of the Rings: The Return of the King",
           1
          ],
          [
           "Shrek 2",
           1
          ],
          [
           "Harry Potter and the Goblet of Fire",
           1
          ],
          [
           "Pirates of the Caribbean: Dead Man's Chest",
           1
          ],
          [
           "Pirates of the Caribbean: At World's End",
           1
          ],
          [
           "The Dark Knight",
           1
          ],
          [
           "Avatar",
           1
          ],
          [
           "Toy Story 3",
           1
          ],
          [
           "Harry Potter and the Deathly Hallows: Part 2",
           1
          ],
          [
           "The Avengers",
           1
          ],
          [
           "Frozen",
           1
          ],
          [
           "Transformers: Age of Extinction",
           1
          ],
          [
           "Star Wars: Episode VII - The Force Awakens",
           1
          ],
          [
           "Captain America: Civil War",
           1
          ],
          [
           "Star Wars: Episode VIII - The Last Jedi",
           1
          ],
          [
           "Avengers: Infinity War",
           1
          ],
          [
           "Avengers: Endgame",
           1
          ],
          [
           "The Eight Hundred",
           1
          ],
          [
           "Spider-Man: No Way Home",
           1
          ],
          [
           "Avatar: The Way of Water",
           1
          ],
          [
           "Barbie",
           1
          ],
          [
           "Mean Girls",
           1
          ]
         ],
         "hovertemplate": "Rank=%{customdata[1]}<br>Anno=%{x}<br>Guadagno al botteghino (Milioni)=%{y:,.2f}<br>Title=%{customdata[0]}<extra></extra>",
         "legendgroup": "1",
         "line": {
          "color": "#636efa",
          "dash": "solid"
         },
         "marker": {
          "symbol": "circle"
         },
         "mode": "lines",
         "name": "1",
         "orientation": "v",
         "showlegend": true,
         "x": [
          1977,
          1978,
          1979,
          1980,
          1981,
          1982,
          1983,
          1984,
          1985,
          1986,
          1987,
          1988,
          1989,
          1990,
          1991,
          1992,
          1993,
          1994,
          1995,
          1996,
          1997,
          1998,
          1999,
          2000,
          2001,
          2002,
          2003,
          2004,
          2005,
          2006,
          2007,
          2008,
          2009,
          2010,
          2011,
          2012,
          2013,
          2014,
          2015,
          2016,
          2017,
          2018,
          2019,
          2020,
          2021,
          2022,
          2023,
          2024
         ],
         "xaxis": "x",
         "y": [
          3.07263857E8,
          1.5997887E8,
          1.0626E8,
          2.09398025E8,
          2.16385706E8,
          3.59197037E8,
          2.52601637E8,
          2.34760478E8,
          2.25526205E8,
          1.76911784E8,
          1.6778096E8,
          2.38092038E8,
          4.01188924E8,
          2.88925428E8,
          2.48802521E8,
          3.46476295E8,
          9.78167947E8,
          7.63455561E8,
          2.44651588E8,
          3.06169268E8,
          1.843373318E9,
          5.53709788E8,
          9.24305084E8,
          5.46388108E8,
          9.74755371E8,
          9.36689735E8,
          1.140682011E9,
          9.2896133E8,
          8.95921036E8,
          1.066179725E9,
          9.60996492E8,
          1.003845358E9,
          2.743577587E9,
          1.066969703E9,
          1.341511219E9,
          1.518812988E9,
          1.280802282E9,
          1.104054072E9,
          2.068223624E9,
          1.153296293E9,
          1.332539889E9,
          2.048359754E9,
          2.7994391E9,
          4.61421559E8,
          1.912233593E9,
          2.320250281E9,
          1.445636401E9,
          4.3944867E7
         ],
         "yaxis": "y",
         "type": "scatter"
        },
        {
         "customdata": [
          [
           "Smokey and the Bandit",
           2
          ],
          [
           "Superman",
           2
          ],
          [
           "The Amityville Horror",
           2
          ],
          [
           "9 to 5",
           2
          ],
          [
           "Raiders of the Lost Ark",
           2
          ],
          [
           "Tootsie",
           2
          ],
          [
           "Terms of Endearment",
           2
          ],
          [
           "Ghostbusters",
           2
          ],
          [
           "Back to the Future",
           2
          ],
          [
           "Crocodile Dundee",
           2
          ],
          [
           "Fatal Attraction",
           2
          ],
          [
           "Rain Man",
           2
          ],
          [
           "Indiana Jones and the Last Crusade",
           2
          ],
          [
           "Ghost",
           2
          ],
          [
           "Terminator 2: Judgment Day",
           2
          ],
          [
           "Batman Returns",
           2
          ],
          [
           "Mrs. Doubtfire",
           2
          ],
          [
           "Forrest Gump",
           2
          ],
          [
           "Apollo 13",
           2
          ],
          [
           "Twister",
           2
          ],
          [
           "Bean",
           2
          ],
          [
           "Saving Private Ryan",
           2
          ],
          [
           "The Sixth Sense",
           2
          ],
          [
           "Gladiator",
           2
          ],
          [
           "The Lord of the Rings: The Fellowship of the Ring",
           2
          ],
          [
           "Harry Potter and the Chamber of Secrets",
           2
          ],
          [
           "Finding Nemo",
           2
          ],
          [
           "Harry Potter and the Prisoner of Azkaban",
           2
          ],
          [
           "Star Wars: Episode III - Revenge of the Sith",
           2
          ],
          [
           "The Da Vinci Code",
           2
          ],
          [
           "Harry Potter and the Order of the Phoenix",
           2
          ],
          [
           "Indiana Jones and the Kingdom of the Crystal Skull",
           2
          ],
          [
           "Harry Potter and the Half-Blood Prince",
           2
          ],
          [
           "Alice in Wonderland",
           2
          ],
          [
           "Transformers: Dark of the Moon",
           2
          ],
          [
           "Skyfall",
           2
          ],
          [
           "Iron Man 3",
           2
          ],
          [
           "The Hobbit: The Battle of the Five Armies",
           2
          ],
          [
           "Jurassic World",
           2
          ],
          [
           "Rogue One: A Star Wars Story",
           2
          ],
          [
           "Beauty and the Beast",
           2
          ],
          [
           "Black Panther",
           2
          ],
          [
           "The Lion King",
           2
          ],
          [
           "Demon Slayer: Kimetsu no Yaiba - The Movie: Mugen Train",
           2
          ],
          [
           "The Battle at Lake Changjin",
           2
          ],
          [
           "Top Gun: Maverick",
           2
          ],
          [
           "The Super Mario Bros. Movie",
           2
          ],
          [
           "The Beekeeper",
           2
          ]
         ],
         "hovertemplate": "Rank=%{customdata[1]}<br>Anno=%{x}<br>Guadagno al botteghino (Milioni)=%{y:,.2f}<br>Title=%{customdata[0]}<extra></extra>",
         "legendgroup": "2",
         "line": {
          "color": "#EF553B",
          "dash": "solid"
         },
         "marker": {
          "symbol": "circle"
         },
         "mode": "lines",
         "name": "2",
         "orientation": "v",
         "showlegend": true,
         "x": [
          1977,
          1978,
          1979,
          1980,
          1981,
          1982,
          1983,
          1984,
          1985,
          1986,
          1987,
          1988,
          1989,
          1990,
          1991,
          1992,
          1993,
          1994,
          1995,
          1996,
          1997,
          1998,
          1999,
          2000,
          2001,
          2002,
          2003,
          2004,
          2005,
          2006,
          2007,
          2008,
          2009,
          2010,
          2011,
          2012,
          2013,
          2014,
          2015,
          2016,
          2017,
          2018,
          2019,
          2020,
          2021,
          2022,
          2023,
          2024
         ],
         "xaxis": "x",
         "y": [
          1.26737428E8,
          1.34218018E8,
          8.6432E7,
          1.032905E8,
          2.12222025E8,
          1.772E8,
          1.08423489E8,
          2.29365586E8,
          2.23316788E8,
          1.74803506E8,
          1.56645693E8,
          1.7283558E8,
          1.97171806E8,
          2.17631306E8,
          2.04843345E8,
          2.66831698E8,
          2.19195243E8,
          3.29694499E8,
          2.23837411E8,
          2.41721524E8,
          2.5121267E8,
          4.81840909E8,
          6.72806292E8,
          4.6058396E8,
          8.6838536E8,
          8.78979634E8,
          8.71014978E8,
          7.95634069E8,
          8.6835253E8,
          7.60006945E8,
          9.38212738E8,
          7.90653942E8,
          9.33959197E8,
          1.02546711E9,
          1.123794079E9,
          1.108561013E9,
          1.214811252E9,
          9.56019788E8,
          1.670400637E9,
          1.056057273E9,
          1.263521126E9,
          1.346913161E9,
          1.656943394E9,
          4.53211036E8,
          9.02548476E8,
          1.495696292E9,
          1.361945211E9,
          4.3793563E7
         ],
         "yaxis": "y",
         "type": "scatter"
        },
        {
         "customdata": [
          [
           "Close Encounters of the Third Kind",
           3
          ],
          [
           "National Lampoon's Animal House",
           3
          ],
          [
           "Rocky II",
           3
          ],
          [
           "Stir Crazy",
           3
          ],
          [
           "On Golden Pond",
           3
          ],
          [
           "An Officer and a Gentleman",
           3
          ],
          [
           "Flashdance",
           3
          ],
          [
           "Indiana Jones and the Temple of Doom",
           3
          ],
          [
           "Rambo: First Blood Part II",
           3
          ],
          [
           "Platoon",
           3
          ],
          [
           "Beverly Hills Cop II",
           3
          ],
          [
           "Coming to America",
           3
          ],
          [
           "Dead Poets Society",
           3
          ],
          [
           "Dances with Wolves",
           3
          ],
          [
           "Robin Hood: Prince of Thieves",
           3
          ],
          [
           "Home Alone 2: Lost in New York",
           3
          ],
          [
           "The Fugitive",
           3
          ],
          [
           "True Lies",
           3
          ],
          [
           "Batman Forever",
           3
          ],
          [
           "Mission: Impossible",
           3
          ],
          [
           "Men in Black",
           3
          ],
          [
           "Godzilla",
           3
          ],
          [
           "Toy Story 2",
           3
          ],
          [
           "Cast Away",
           3
          ],
          [
           "Monsters, Inc.",
           3
          ],
          [
           "Spider-Man",
           3
          ],
          [
           "The Matrix Reloaded",
           3
          ],
          [
           "Spider-Man 2",
           3
          ],
          [
           "The Chronicles of Narnia: The Lion, the Witch and the Wardrobe",
           3
          ],
          [
           "Ice Age: The Meltdown",
           3
          ],
          [
           "Spider-Man 3",
           3
          ],
          [
           "Kung Fu Panda",
           3
          ],
          [
           "Ice Age: Dawn of the Dinosaurs",
           3
          ],
          [
           "Harry Potter and the Deathly Hallows: Part 1",
           3
          ],
          [
           "Pirates of the Caribbean: On Stranger Tides",
           3
          ],
          [
           "The Dark Knight Rises",
           3
          ],
          [
           "Despicable Me 2",
           3
          ],
          [
           "Guardians of the Galaxy",
           3
          ],
          [
           "Furious 7",
           3
          ],
          [
           "Finding Dory",
           3
          ],
          [
           "The Fate of the Furious",
           3
          ],
          [
           "Jurassic World: Fallen Kingdom",
           3
          ],
          [
           "Frozen II",
           3
          ],
          [
           "Bad Boys for Life",
           3
          ],
          [
           "Hi, Mom",
           3
          ],
          [
           "Jurassic World Dominion",
           3
          ],
          [
           "Oppenheimer",
           3
          ],
          [
           "Night Swim",
           3
          ]
         ],
         "hovertemplate": "Rank=%{customdata[1]}<br>Anno=%{x}<br>Guadagno al botteghino (Milioni)=%{y:,.2f}<br>Title=%{customdata[0]}<extra></extra>",
         "legendgroup": "3",
         "line": {
          "color": "#00cc96",
          "dash": "solid"
         },
         "marker": {
          "symbol": "circle"
         },
         "mode": "lines",
         "name": "3",
         "orientation": "v",
         "showlegend": true,
         "x": [
          1977,
          1978,
          1979,
          1980,
          1981,
          1982,
          1983,
          1984,
          1985,
          1986,
          1987,
          1988,
          1989,
          1990,
          1991,
          1992,
          1993,
          1994,
          1995,
          1996,
          1997,
          1998,
          1999,
          2000,
          2001,
          2002,
          2003,
          2004,
          2005,
          2006,
          2007,
          2008,
          2009,
          2010,
          2011,
          2012,
          2013,
          2014,
          2015,
          2016,
          2017,
          2018,
          2019,
          2020,
          2021,
          2022,
          2023,
          2024
         ],
         "xaxis": "x",
         "y": [
          1.1639546E8,
          1.20098342E8,
          8.518216E7,
          1.013E8,
          1.19285432E8,
          1.29795554E8,
          9.2921203E7,
          1.79870271E8,
          1.50415432E8,
          1.38545632E8,
          1.53665036E8,
          1.28152301E8,
          1.74997852E8,
          1.84208848E8,
          1.65493908E8,
          1.73585601E8,
          1.8387576E8,
          1.46282411E8,
          1.84031112E8,
          1.80981856E8,
          2.50690539E8,
          3.79014294E8,
          4.87059677E8,
          4.29632142E8,
          5.2877325E8,
          8.21708551E8,
          7.39412035E8,
          7.88618317E8,
          7.45013115E8,
          6.60998756E8,
          8.94983373E8,
          6.3174456E8,
          8.86686817E8,
          9.72050767E8,
          1.045713802E9,
          1.084939099E9,
          9.70766005E8,
          7.727766E8,
          1.515047671E9,
          1.028570889E9,
          1.236005118E9,
          1.308467944E9,
          1.450026933E9,
          4.26505244E8,
          8.22009764E8,
          1.00197808E9,
          9.52648405E8,
          3.1895548E7
         ],
         "yaxis": "y",
         "type": "scatter"
        },
        {
         "customdata": [
          [
           "Saturday Night Fever",
           4
          ],
          [
           "Every Which Way But Loose",
           4
          ],
          [
           "Star Trek: The Motion Picture",
           4
          ],
          [
           "Airplane!",
           4
          ],
          [
           "Arthur",
           4
          ],
          [
           "Rocky III",
           4
          ],
          [
           "Trading Places",
           4
          ],
          [
           "Gremlins",
           4
          ],
          [
           "Rocky IV",
           4
          ],
          [
           "The Karate Kid Part II",
           4
          ],
          [
           "Good Morning, Vietnam",
           4
          ],
          [
           "Big",
           4
          ],
          [
           "Lethal Weapon 2",
           4
          ],
          [
           "Pretty Woman",
           4
          ],
          [
           "The Silence of the Lambs",
           4
          ],
          [
           "Lethal Weapon 3",
           4
          ],
          [
           "The Firm",
           4
          ],
          [
           "The Santa Clause",
           4
          ],
          [
           "Pocahontas",
           4
          ],
          [
           "Jerry Maguire",
           4
          ],
          [
           "Batman & Robin",
           4
          ],
          [
           "There's Something About Mary",
           4
          ],
          [
           "The Matrix",
           4
          ],
          [
           "What Women Want",
           4
          ],
          [
           "Shrek",
           4
          ],
          [
           "Star Wars: Episode II - Attack of the Clones",
           4
          ],
          [
           "Pirates of the Caribbean: The Curse of the Black Pearl",
           4
          ],
          [
           "The Incredibles",
           4
          ],
          [
           "War of the Worlds",
           4
          ],
          [
           "Casino Royale",
           4
          ],
          [
           "Shrek the Third",
           4
          ],
          [
           "Hancock",
           4
          ],
          [
           "Transformers: Revenge of the Fallen",
           4
          ],
          [
           "Inception",
           4
          ],
          [
           "The Twilight Saga: Breaking Dawn - Part 1",
           4
          ],
          [
           "The Hobbit: An Unexpected Journey",
           4
          ],
          [
           "The Hobbit: The Desolation of Smaug",
           4
          ],
          [
           "Maleficent",
           4
          ],
          [
           "Avengers: Age of Ultron",
           4
          ],
          [
           "Zootopia",
           4
          ],
          [
           "Despicable Me 3",
           4
          ],
          [
           "Incredibles 2",
           4
          ],
          [
           "Spider-Man: Far from Home",
           4
          ],
          [
           "My People, My Homeland",
           4
          ],
          [
           "No Time to Die",
           4
          ],
          [
           "Doctor Strange in the Multiverse of Madness",
           4
          ],
          [
           "Guardians of the Galaxy Vol. 3",
           4
          ],
          [
           "Kleks Academy",
           4
          ]
         ],
         "hovertemplate": "Rank=%{customdata[1]}<br>Anno=%{x}<br>Guadagno al botteghino (Milioni)=%{y:,.2f}<br>Title=%{customdata[0]}<extra></extra>",
         "legendgroup": "4",
         "line": {
          "color": "#ab63fa",
          "dash": "solid"
         },
         "marker": {
          "symbol": "circle"
         },
         "mode": "lines",
         "name": "4",
         "orientation": "v",
         "showlegend": true,
         "x": [
          1977,
          1978,
          1979,
          1980,
          1981,
          1982,
          1983,
          1984,
          1985,
          1986,
          1987,
          1988,
          1989,
          1990,
          1991,
          1992,
          1993,
          1994,
          1995,
          1996,
          1997,
          1998,
          1999,
          2000,
          2001,
          2002,
          2003,
          2004,
          2005,
          2006,
          2007,
          2008,
          2009,
          2010,
          2011,
          2012,
          2013,
          2014,
          2015,
          2016,
          2017,
          2018,
          2019,
          2020,
          2021,
          2022,
          2023,
          2024
         ],
         "xaxis": "x",
         "y": [
          9.4213184E7,
          8.5196485E7,
          8.2258456E7,
          8.3453539E7,
          9.5461682E7,
          1.24146897E8,
          9.04048E7,
          1.48168459E8,
          1.27891353E8,
          1.15103979E8,
          1.2392237E8,
          1.14968896E8,
          1.47253986E8,
          1.78406268E8,
          1.30742922E8,
          1.44731527E8,
          1.58348367E8,
          1.44833522E8,
          1.41579773E8,
          1.53952592E8,
          2.38225195E8,
          3.69884651E8,
          4.63517383E8,
          3.74111707E8,
          4.84596038E8,
          6.45256452E8,
          6.54264015E8,
          6.31442092E8,
          6.03873119E8,
          6.05999592E8,
          8.1336738E8,
          6.29443428E8,
          8.36303693E8,
          8.28258695E8,
          7.12205856E8,
          1.017003568E9,
          9.58366855E8,
          7.58410378E8,
          1.402805868E9,
          1.023784195E9,
          1.034799409E9,
          1.242805359E9,
          1.131927996E9,
          4.2239082E8,
          7.74153007E8,
          9.55775804E8,
          8.45555777E8,
          6825426.0
         ],
         "yaxis": "y",
         "type": "scatter"
        },
        {
         "customdata": [
          [
           "A Bridge Too Far",
           5
          ],
          [
           "Heaven Can Wait",
           5
          ],
          [
           "Alien",
           5
          ],
          [
           "Any Which Way You Can",
           5
          ],
          [
           "Stripes",
           5
          ],
          [
           "Porky's",
           5
          ],
          [
           "Superman III",
           5
          ],
          [
           "The Karate Kid",
           5
          ],
          [
           "The Color Purple",
           5
          ],
          [
           "Star Trek IV: The Voyage Home",
           5
          ],
          [
           "Moonstruck",
           5
          ],
          [
           "Twins",
           5
          ],
          [
           "Look Who's Talking",
           5
          ],
          [
           "Teenage Mutant Ninja Turtles",
           5
          ],
          [
           "City Slickers",
           5
          ],
          [
           "A Few Good Men",
           5
          ],
          [
           "Sleepless in Seattle",
           5
          ],
          [
           "The Flintstones",
           5
          ],
          [
           "Ace Ventura: When Nature Calls",
           5
          ],
          [
           "Ransom",
           5
          ],
          [
           "The Lost World: Jurassic Park",
           5
          ],
          [
           "A Bug's Life",
           5
          ],
          [
           "Tarzan",
           5
          ],
          [
           "Dinosaur",
           5
          ],
          [
           "Ocean's Eleven",
           5
          ],
          [
           "Men in Black II",
           5
          ],
          [
           "Bruce Almighty",
           5
          ],
          [
           "The Passion of the Christ",
           5
          ],
          [
           "King Kong",
           5
          ],
          [
           "Night at the Museum",
           5
          ],
          [
           "Transformers",
           5
          ],
          [
           "Mamma Mia!",
           5
          ],
          [
           "2012",
           5
          ],
          [
           "Shrek Forever After",
           5
          ],
          [
           "Mission: Impossible - Ghost Protocol",
           5
          ],
          [
           "Ice Age: Continental Drift",
           5
          ],
          [
           "The Hunger Games: Catching Fire",
           5
          ],
          [
           "The Hunger Games: Mockingjay - Part 1",
           5
          ],
          [
           "Minions",
           5
          ],
          [
           "The Jungle Book",
           5
          ],
          [
           "Jumanji: Welcome to the Jungle",
           5
          ],
          [
           "Aquaman",
           5
          ],
          [
           "Captain Marvel",
           5
          ],
          [
           "Tenet",
           5
          ],
          [
           "F9: The Fast Saga",
           5
          ],
          [
           "Minions: The Rise of Gru",
           5
          ],
          [
           "Fast X",
           5
          ],
          [
           "Alienoid: The Return to the Future",
           5
          ]
         ],
         "hovertemplate": "Rank=%{customdata[1]}<br>Anno=%{x}<br>Guadagno al botteghino (Milioni)=%{y:,.2f}<br>Title=%{customdata[0]}<extra></extra>",
         "legendgroup": "5",
         "line": {
          "color": "#FFA15A",
          "dash": "solid"
         },
         "marker": {
          "symbol": "circle"
         },
         "mode": "lines",
         "name": "5",
         "orientation": "v",
         "showlegend": true,
         "x": [
          1977,
          1978,
          1979,
          1980,
          1981,
          1982,
          1983,
          1984,
          1985,
          1986,
          1987,
          1988,
          1989,
          1990,
          1991,
          1992,
          1993,
          1994,
          1995,
          1996,
          1997,
          1998,
          1999,
          2000,
          2001,
          2002,
          2003,
          2004,
          2005,
          2006,
          2007,
          2008,
          2009,
          2010,
          2011,
          2012,
          2013,
          2014,
          2015,
          2016,
          2017,
          2018,
          2019,
          2020,
          2021,
          2022,
          2023,
          2024
         ],
         "xaxis": "x",
         "y": [
          5.075E7,
          8.1640278E7,
          7.8944891E7,
          7.0687344E7,
          8.5297E7,
          1.05492483E8,
          8.0250623E7,
          9.0815558E7,
          9.4175854E7,
          1.09713132E8,
          8.0640528E7,
          1.11938388E8,
          1.40088813E8,
          1.35265915E8,
          1.24033791E8,
          1.41354048E8,
          1.26680884E8,
          1.30531208E8,
          1.08385533E8,
          1.36492681E8,
          2.29086679E8,
          3.63258859E8,
          4.48191819E8,
          3.49822765E8,
          4.5071715E8,
          4.41818803E8,
          4.84592874E8,
          6.11486736E8,
          5.56906378E8,
          5.74480841E8,
          7.0970978E8,
          6.10002542E8,
          7.69679473E8,
          7.52600867E8,
          6.9471338E8,
          8.77244782E8,
          8.65011746E8,
          7.55356711E8,
          1.159398397E9,
          9.665506E8,
          9.62077546E8,
          1.151961807E9,
          1.128274794E9,
          3.65304105E8,
          7.26229501E8,
          9.40203765E8,
          7.04875015E8,
          4771858.0
         ],
         "yaxis": "y",
         "type": "scatter"
        }
       ],
       "layout": {
        "template": {
         "data": {
          "barpolar": [
           {
            "marker": {
             "line": {
              "color": "white",
              "width": 0.5
             },
             "pattern": {
              "fillmode": "overlay",
              "size": 10,
              "solidity": 0.2
             }
            },
            "type": "barpolar"
           }
          ],
          "bar": [
           {
            "error_x": {
             "color": "#2a3f5f"
            },
            "error_y": {
             "color": "#2a3f5f"
            },
            "marker": {
             "line": {
              "color": "white",
              "width": 0.5
             },
             "pattern": {
              "fillmode": "overlay",
              "size": 10,
              "solidity": 0.2
             }
            },
            "type": "bar"
           }
          ],
          "carpet": [
           {
            "aaxis": {
             "endlinecolor": "#2a3f5f",
             "gridcolor": "#C8D4E3",
             "linecolor": "#C8D4E3",
             "minorgridcolor": "#C8D4E3",
             "startlinecolor": "#2a3f5f"
            },
            "baxis": {
             "endlinecolor": "#2a3f5f",
             "gridcolor": "#C8D4E3",
             "linecolor": "#C8D4E3",
             "minorgridcolor": "#C8D4E3",
             "startlinecolor": "#2a3f5f"
            },
            "type": "carpet"
           }
          ],
          "choropleth": [
           {
            "colorbar": {
             "outlinewidth": 0,
             "ticks": ""
            },
            "type": "choropleth"
           }
          ],
          "contourcarpet": [
           {
            "colorbar": {
             "outlinewidth": 0,
             "ticks": ""
            },
            "type": "contourcarpet"
           }
          ],
          "contour": [
           {
            "colorbar": {
             "outlinewidth": 0,
             "ticks": ""
            },
            "colorscale": [
             [
              0.0,
              "#0d0887"
             ],
             [
              0.1111111111111111,
              "#46039f"
             ],
             [
              0.2222222222222222,
              "#7201a8"
             ],
             [
              0.3333333333333333,
              "#9c179e"
             ],
             [
              0.4444444444444444,
              "#bd3786"
             ],
             [
              0.5555555555555556,
              "#d8576b"
             ],
             [
              0.6666666666666666,
              "#ed7953"
             ],
             [
              0.7777777777777778,
              "#fb9f3a"
             ],
             [
              0.8888888888888888,
              "#fdca26"
             ],
             [
              1.0,
              "#f0f921"
             ]
            ],
            "type": "contour"
           }
          ],
          "heatmapgl": [
           {
            "colorbar": {
             "outlinewidth": 0,
             "ticks": ""
            },
            "colorscale": [
             [
              0.0,
              "#0d0887"
             ],
             [
              0.1111111111111111,
              "#46039f"
             ],
             [
              0.2222222222222222,
              "#7201a8"
             ],
             [
              0.3333333333333333,
              "#9c179e"
             ],
             [
              0.4444444444444444,
              "#bd3786"
             ],
             [
              0.5555555555555556,
              "#d8576b"
             ],
             [
              0.6666666666666666,
              "#ed7953"
             ],
             [
              0.7777777777777778,
              "#fb9f3a"
             ],
             [
              0.8888888888888888,
              "#fdca26"
             ],
             [
              1.0,
              "#f0f921"
             ]
            ],
            "type": "heatmapgl"
           }
          ],
          "heatmap": [
           {
            "colorbar": {
             "outlinewidth": 0,
             "ticks": ""
            },
            "colorscale": [
             [
              0.0,
              "#0d0887"
             ],
             [
              0.1111111111111111,
              "#46039f"
             ],
             [
              0.2222222222222222,
              "#7201a8"
             ],
             [
              0.3333333333333333,
              "#9c179e"
             ],
             [
              0.4444444444444444,
              "#bd3786"
             ],
             [
              0.5555555555555556,
              "#d8576b"
             ],
             [
              0.6666666666666666,
              "#ed7953"
             ],
             [
              0.7777777777777778,
              "#fb9f3a"
             ],
             [
              0.8888888888888888,
              "#fdca26"
             ],
             [
              1.0,
              "#f0f921"
             ]
            ],
            "type": "heatmap"
           }
          ],
          "histogram2dcontour": [
           {
            "colorbar": {
             "outlinewidth": 0,
             "ticks": ""
            },
            "colorscale": [
             [
              0.0,
              "#0d0887"
             ],
             [
              0.1111111111111111,
              "#46039f"
             ],
             [
              0.2222222222222222,
              "#7201a8"
             ],
             [
              0.3333333333333333,
              "#9c179e"
             ],
             [
              0.4444444444444444,
              "#bd3786"
             ],
             [
              0.5555555555555556,
              "#d8576b"
             ],
             [
              0.6666666666666666,
              "#ed7953"
             ],
             [
              0.7777777777777778,
              "#fb9f3a"
             ],
             [
              0.8888888888888888,
              "#fdca26"
             ],
             [
              1.0,
              "#f0f921"
             ]
            ],
            "type": "histogram2dcontour"
           }
          ],
          "histogram2d": [
           {
            "colorbar": {
             "outlinewidth": 0,
             "ticks": ""
            },
            "colorscale": [
             [
              0.0,
              "#0d0887"
             ],
             [
              0.1111111111111111,
              "#46039f"
             ],
             [
              0.2222222222222222,
              "#7201a8"
             ],
             [
              0.3333333333333333,
              "#9c179e"
             ],
             [
              0.4444444444444444,
              "#bd3786"
             ],
             [
              0.5555555555555556,
              "#d8576b"
             ],
             [
              0.6666666666666666,
              "#ed7953"
             ],
             [
              0.7777777777777778,
              "#fb9f3a"
             ],
             [
              0.8888888888888888,
              "#fdca26"
             ],
             [
              1.0,
              "#f0f921"
             ]
            ],
            "type": "histogram2d"
           }
          ],
          "histogram": [
           {
            "marker": {
             "pattern": {
              "fillmode": "overlay",
              "size": 10,
              "solidity": 0.2
             }
            },
            "type": "histogram"
           }
          ],
          "mesh3d": [
           {
            "colorbar": {
             "outlinewidth": 0,
             "ticks": ""
            },
            "type": "mesh3d"
           }
          ],
          "parcoords": [
           {
            "line": {
             "colorbar": {
              "outlinewidth": 0,
              "ticks": ""
             }
            },
            "type": "parcoords"
           }
          ],
          "pie": [
           {
            "automargin": true,
            "type": "pie"
           }
          ],
          "scatter3d": [
           {
            "line": {
             "colorbar": {
              "outlinewidth": 0,
              "ticks": ""
             }
            },
            "marker": {
             "colorbar": {
              "outlinewidth": 0,
              "ticks": ""
             }
            },
            "type": "scatter3d"
           }
          ],
          "scattercarpet": [
           {
            "marker": {
             "colorbar": {
              "outlinewidth": 0,
              "ticks": ""
             }
            },
            "type": "scattercarpet"
           }
          ],
          "scattergeo": [
           {
            "marker": {
             "colorbar": {
              "outlinewidth": 0,
              "ticks": ""
             }
            },
            "type": "scattergeo"
           }
          ],
          "scattergl": [
           {
            "marker": {
             "colorbar": {
              "outlinewidth": 0,
              "ticks": ""
             }
            },
            "type": "scattergl"
           }
          ],
          "scattermapbox": [
           {
            "marker": {
             "colorbar": {
              "outlinewidth": 0,
              "ticks": ""
             }
            },
            "type": "scattermapbox"
           }
          ],
          "scatterpolargl": [
           {
            "marker": {
             "colorbar": {
              "outlinewidth": 0,
              "ticks": ""
             }
            },
            "type": "scatterpolargl"
           }
          ],
          "scatterpolar": [
           {
            "marker": {
             "colorbar": {
              "outlinewidth": 0,
              "ticks": ""
             }
            },
            "type": "scatterpolar"
           }
          ],
          "scatter": [
           {
            "fillpattern": {
             "fillmode": "overlay",
             "size": 10,
             "solidity": 0.2
            },
            "type": "scatter"
           }
          ],
          "scatterternary": [
           {
            "marker": {
             "colorbar": {
              "outlinewidth": 0,
              "ticks": ""
             }
            },
            "type": "scatterternary"
           }
          ],
          "surface": [
           {
            "colorbar": {
             "outlinewidth": 0,
             "ticks": ""
            },
            "colorscale": [
             [
              0.0,
              "#0d0887"
             ],
             [
              0.1111111111111111,
              "#46039f"
             ],
             [
              0.2222222222222222,
              "#7201a8"
             ],
             [
              0.3333333333333333,
              "#9c179e"
             ],
             [
              0.4444444444444444,
              "#bd3786"
             ],
             [
              0.5555555555555556,
              "#d8576b"
             ],
             [
              0.6666666666666666,
              "#ed7953"
             ],
             [
              0.7777777777777778,
              "#fb9f3a"
             ],
             [
              0.8888888888888888,
              "#fdca26"
             ],
             [
              1.0,
              "#f0f921"
             ]
            ],
            "type": "surface"
           }
          ],
          "table": [
           {
            "cells": {
             "fill": {
              "color": "#EBF0F8"
             },
             "line": {
              "color": "white"
             }
            },
            "header": {
             "fill": {
              "color": "#C8D4E3"
             },
             "line": {
              "color": "white"
             }
            },
            "type": "table"
           }
          ]
         },
         "layout": {
          "annotationdefaults": {
           "arrowcolor": "#2a3f5f",
           "arrowhead": 0,
           "arrowwidth": 1
          },
          "autotypenumbers": "strict",
          "coloraxis": {
           "colorbar": {
            "outlinewidth": 0,
            "ticks": ""
           }
          },
          "colorscale": {
           "diverging": [
            [
             0,
             "#8e0152"
            ],
            [
             0.1,
             "#c51b7d"
            ],
            [
             0.2,
             "#de77ae"
            ],
            [
             0.3,
             "#f1b6da"
            ],
            [
             0.4,
             "#fde0ef"
            ],
            [
             0.5,
             "#f7f7f7"
            ],
            [
             0.6,
             "#e6f5d0"
            ],
            [
             0.7,
             "#b8e186"
            ],
            [
             0.8,
             "#7fbc41"
            ],
            [
             0.9,
             "#4d9221"
            ],
            [
             1,
             "#276419"
            ]
           ],
           "sequential": [
            [
             0.0,
             "#0d0887"
            ],
            [
             0.1111111111111111,
             "#46039f"
            ],
            [
             0.2222222222222222,
             "#7201a8"
            ],
            [
             0.3333333333333333,
             "#9c179e"
            ],
            [
             0.4444444444444444,
             "#bd3786"
            ],
            [
             0.5555555555555556,
             "#d8576b"
            ],
            [
             0.6666666666666666,
             "#ed7953"
            ],
            [
             0.7777777777777778,
             "#fb9f3a"
            ],
            [
             0.8888888888888888,
             "#fdca26"
            ],
            [
             1.0,
             "#f0f921"
            ]
           ],
           "sequentialminus": [
            [
             0.0,
             "#0d0887"
            ],
            [
             0.1111111111111111,
             "#46039f"
            ],
            [
             0.2222222222222222,
             "#7201a8"
            ],
            [
             0.3333333333333333,
             "#9c179e"
            ],
            [
             0.4444444444444444,
             "#bd3786"
            ],
            [
             0.5555555555555556,
             "#d8576b"
            ],
            [
             0.6666666666666666,
             "#ed7953"
            ],
            [
             0.7777777777777778,
             "#fb9f3a"
            ],
            [
             0.8888888888888888,
             "#fdca26"
            ],
            [
             1.0,
             "#f0f921"
            ]
           ]
          },
          "colorway": [
           "#636efa",
           "#EF553B",
           "#00cc96",
           "#ab63fa",
           "#FFA15A",
           "#19d3f3",
           "#FF6692",
           "#B6E880",
           "#FF97FF",
           "#FECB52"
          ],
          "font": {
           "color": "#2a3f5f"
          },
          "geo": {
           "bgcolor": "white",
           "lakecolor": "white",
           "landcolor": "white",
           "showlakes": true,
           "showland": true,
           "subunitcolor": "#C8D4E3"
          },
          "hoverlabel": {
           "align": "left"
          },
          "hovermode": "closest",
          "mapbox": {
           "style": "light"
          },
          "paper_bgcolor": "white",
          "plot_bgcolor": "white",
          "polar": {
           "angularaxis": {
            "gridcolor": "#EBF0F8",
            "linecolor": "#EBF0F8",
            "ticks": ""
           },
           "bgcolor": "white",
           "radialaxis": {
            "gridcolor": "#EBF0F8",
            "linecolor": "#EBF0F8",
            "ticks": ""
           }
          },
          "scene": {
           "xaxis": {
            "backgroundcolor": "white",
            "gridcolor": "#DFE8F3",
            "gridwidth": 2,
            "linecolor": "#EBF0F8",
            "showbackground": true,
            "ticks": "",
            "zerolinecolor": "#EBF0F8"
           },
           "yaxis": {
            "backgroundcolor": "white",
            "gridcolor": "#DFE8F3",
            "gridwidth": 2,
            "linecolor": "#EBF0F8",
            "showbackground": true,
            "ticks": "",
            "zerolinecolor": "#EBF0F8"
           },
           "zaxis": {
            "backgroundcolor": "white",
            "gridcolor": "#DFE8F3",
            "gridwidth": 2,
            "linecolor": "#EBF0F8",
            "showbackground": true,
            "ticks": "",
            "zerolinecolor": "#EBF0F8"
           }
          },
          "shapedefaults": {
           "line": {
            "color": "#2a3f5f"
           }
          },
          "ternary": {
           "aaxis": {
            "gridcolor": "#DFE8F3",
            "linecolor": "#A2B1C6",
            "ticks": ""
           },
           "baxis": {
            "gridcolor": "#DFE8F3",
            "linecolor": "#A2B1C6",
            "ticks": ""
           },
           "bgcolor": "white",
           "caxis": {
            "gridcolor": "#DFE8F3",
            "linecolor": "#A2B1C6",
            "ticks": ""
           }
          },
          "title": {
           "x": 0.05
          },
          "xaxis": {
           "automargin": true,
           "gridcolor": "#EBF0F8",
           "linecolor": "#EBF0F8",
           "ticks": "",
           "title": {
            "standoff": 15
           },
           "zerolinecolor": "#EBF0F8",
           "zerolinewidth": 2
          },
          "yaxis": {
           "automargin": true,
           "gridcolor": "#EBF0F8",
           "linecolor": "#EBF0F8",
           "ticks": "",
           "title": {
            "standoff": 15
           },
           "zerolinecolor": "#EBF0F8",
           "zerolinewidth": 2
          }
         }
        },
        "xaxis": {
         "anchor": "y",
         "domain": [
          0.0,
          1.0
         ],
         "title": {
          "text": "Anno"
         }
        },
        "yaxis": {
         "anchor": "x",
         "domain": [
          0.0,
          1.0
         ],
         "title": {
          "text": "Guadagno al botteghino (Milioni)"
         }
        },
        "legend": {
         "title": {
          "text": "Rank"
         },
         "tracegroupgap": 0
        },
        "title": {
         "text": "Andamento del Guadagno dei Top 5 film nel corso degli anni"
        },
        "height": 800,
        "width": 1500
       },
       "config": {
        "plotlyServerURL": "https://plot.ly"
       }
      },
      "text/html": "<div>                            <div id=\"1819812f-4d18-45f6-ba3e-c672a66a92e3\" class=\"plotly-graph-div\" style=\"height:800px; width:1500px;\"></div>            <script type=\"text/javascript\">                require([\"plotly\"], function(Plotly) {                    window.PLOTLYENV=window.PLOTLYENV || {};                                    if (document.getElementById(\"1819812f-4d18-45f6-ba3e-c672a66a92e3\")) {                    Plotly.newPlot(                        \"1819812f-4d18-45f6-ba3e-c672a66a92e3\",                        [{\"customdata\":[[\"Star Wars: Episode IV - A New Hope\",1],[\"Grease\",1],[\"Kramer vs. Kramer\",1],[\"Star Wars: Episode V - The Empire Strikes Back\",1],[\"Superman II\",1],[\"E.T. the Extra-Terrestrial\",1],[\"Star Wars: Episode VI - Return of the Jedi\",1],[\"Beverly Hills Cop\",1],[\"Out of Africa\",1],[\"Top Gun\",1],[\"Three Men and a Baby\",1],[\"Who Framed Roger Rabbit\",1],[\"Batman\",1],[\"Home Alone\",1],[\"Beauty and the Beast\",1],[\"Aladdin\",1],[\"Jurassic Park\",1],[\"The Lion King\",1],[\"Toy Story\",1],[\"Independence Day\",1],[\"Titanic\",1],[\"Armageddon\",1],[\"Star Wars: Episode I - The Phantom Menace\",1],[\"Mission: Impossible II\",1],[\"Harry Potter and the Sorcerer's Stone\",1],[\"The Lord of the Rings: The Two Towers\",1],[\"The Lord of the Rings: The Return of the King\",1],[\"Shrek 2\",1],[\"Harry Potter and the Goblet of Fire\",1],[\"Pirates of the Caribbean: Dead Man's Chest\",1],[\"Pirates of the Caribbean: At World's End\",1],[\"The Dark Knight\",1],[\"Avatar\",1],[\"Toy Story 3\",1],[\"Harry Potter and the Deathly Hallows: Part 2\",1],[\"The Avengers\",1],[\"Frozen\",1],[\"Transformers: Age of Extinction\",1],[\"Star Wars: Episode VII - The Force Awakens\",1],[\"Captain America: Civil War\",1],[\"Star Wars: Episode VIII - The Last Jedi\",1],[\"Avengers: Infinity War\",1],[\"Avengers: Endgame\",1],[\"The Eight Hundred\",1],[\"Spider-Man: No Way Home\",1],[\"Avatar: The Way of Water\",1],[\"Barbie\",1],[\"Mean Girls\",1]],\"hovertemplate\":\"Rank=%{customdata[1]}\\u003cbr\\u003eAnno=%{x}\\u003cbr\\u003eGuadagno al botteghino (Milioni)=%{y:,.2f}\\u003cbr\\u003eTitle=%{customdata[0]}\\u003cextra\\u003e\\u003c\\u002fextra\\u003e\",\"legendgroup\":\"1\",\"line\":{\"color\":\"#636efa\",\"dash\":\"solid\"},\"marker\":{\"symbol\":\"circle\"},\"mode\":\"lines\",\"name\":\"1\",\"orientation\":\"v\",\"showlegend\":true,\"x\":[1977,1978,1979,1980,1981,1982,1983,1984,1985,1986,1987,1988,1989,1990,1991,1992,1993,1994,1995,1996,1997,1998,1999,2000,2001,2002,2003,2004,2005,2006,2007,2008,2009,2010,2011,2012,2013,2014,2015,2016,2017,2018,2019,2020,2021,2022,2023,2024],\"xaxis\":\"x\",\"y\":[307263857.0,159978870.0,106260000.0,209398025.0,216385706.0,359197037.0,252601637.0,234760478.0,225526205.0,176911784.0,167780960.0,238092038.0,401188924.0,288925428.0,248802521.0,346476295.0,978167947.0,763455561.0,244651588.0,306169268.0,1843373318.0,553709788.0,924305084.0,546388108.0,974755371.0,936689735.0,1140682011.0,928961330.0,895921036.0,1066179725.0,960996492.0,1003845358.0,2743577587.0,1066969703.0,1341511219.0,1518812988.0,1280802282.0,1104054072.0,2068223624.0,1153296293.0,1332539889.0,2048359754.0,2799439100.0,461421559.0,1912233593.0,2320250281.0,1445636401.0,43944867.0],\"yaxis\":\"y\",\"type\":\"scatter\"},{\"customdata\":[[\"Smokey and the Bandit\",2],[\"Superman\",2],[\"The Amityville Horror\",2],[\"9 to 5\",2],[\"Raiders of the Lost Ark\",2],[\"Tootsie\",2],[\"Terms of Endearment\",2],[\"Ghostbusters\",2],[\"Back to the Future\",2],[\"Crocodile Dundee\",2],[\"Fatal Attraction\",2],[\"Rain Man\",2],[\"Indiana Jones and the Last Crusade\",2],[\"Ghost\",2],[\"Terminator 2: Judgment Day\",2],[\"Batman Returns\",2],[\"Mrs. Doubtfire\",2],[\"Forrest Gump\",2],[\"Apollo 13\",2],[\"Twister\",2],[\"Bean\",2],[\"Saving Private Ryan\",2],[\"The Sixth Sense\",2],[\"Gladiator\",2],[\"The Lord of the Rings: The Fellowship of the Ring\",2],[\"Harry Potter and the Chamber of Secrets\",2],[\"Finding Nemo\",2],[\"Harry Potter and the Prisoner of Azkaban\",2],[\"Star Wars: Episode III - Revenge of the Sith\",2],[\"The Da Vinci Code\",2],[\"Harry Potter and the Order of the Phoenix\",2],[\"Indiana Jones and the Kingdom of the Crystal Skull\",2],[\"Harry Potter and the Half-Blood Prince\",2],[\"Alice in Wonderland\",2],[\"Transformers: Dark of the Moon\",2],[\"Skyfall\",2],[\"Iron Man 3\",2],[\"The Hobbit: The Battle of the Five Armies\",2],[\"Jurassic World\",2],[\"Rogue One: A Star Wars Story\",2],[\"Beauty and the Beast\",2],[\"Black Panther\",2],[\"The Lion King\",2],[\"Demon Slayer: Kimetsu no Yaiba - The Movie: Mugen Train\",2],[\"The Battle at Lake Changjin\",2],[\"Top Gun: Maverick\",2],[\"The Super Mario Bros. Movie\",2],[\"The Beekeeper\",2]],\"hovertemplate\":\"Rank=%{customdata[1]}\\u003cbr\\u003eAnno=%{x}\\u003cbr\\u003eGuadagno al botteghino (Milioni)=%{y:,.2f}\\u003cbr\\u003eTitle=%{customdata[0]}\\u003cextra\\u003e\\u003c\\u002fextra\\u003e\",\"legendgroup\":\"2\",\"line\":{\"color\":\"#EF553B\",\"dash\":\"solid\"},\"marker\":{\"symbol\":\"circle\"},\"mode\":\"lines\",\"name\":\"2\",\"orientation\":\"v\",\"showlegend\":true,\"x\":[1977,1978,1979,1980,1981,1982,1983,1984,1985,1986,1987,1988,1989,1990,1991,1992,1993,1994,1995,1996,1997,1998,1999,2000,2001,2002,2003,2004,2005,2006,2007,2008,2009,2010,2011,2012,2013,2014,2015,2016,2017,2018,2019,2020,2021,2022,2023,2024],\"xaxis\":\"x\",\"y\":[126737428.0,134218018.0,86432000.0,103290500.0,212222025.0,177200000.0,108423489.0,229365586.0,223316788.0,174803506.0,156645693.0,172835580.0,197171806.0,217631306.0,204843345.0,266831698.0,219195243.0,329694499.0,223837411.0,241721524.0,251212670.0,481840909.0,672806292.0,460583960.0,868385360.0,878979634.0,871014978.0,795634069.0,868352530.0,760006945.0,938212738.0,790653942.0,933959197.0,1025467110.0,1123794079.0,1108561013.0,1214811252.0,956019788.0,1670400637.0,1056057273.0,1263521126.0,1346913161.0,1656943394.0,453211036.0,902548476.0,1495696292.0,1361945211.0,43793563.0],\"yaxis\":\"y\",\"type\":\"scatter\"},{\"customdata\":[[\"Close Encounters of the Third Kind\",3],[\"National Lampoon's Animal House\",3],[\"Rocky II\",3],[\"Stir Crazy\",3],[\"On Golden Pond\",3],[\"An Officer and a Gentleman\",3],[\"Flashdance\",3],[\"Indiana Jones and the Temple of Doom\",3],[\"Rambo: First Blood Part II\",3],[\"Platoon\",3],[\"Beverly Hills Cop II\",3],[\"Coming to America\",3],[\"Dead Poets Society\",3],[\"Dances with Wolves\",3],[\"Robin Hood: Prince of Thieves\",3],[\"Home Alone 2: Lost in New York\",3],[\"The Fugitive\",3],[\"True Lies\",3],[\"Batman Forever\",3],[\"Mission: Impossible\",3],[\"Men in Black\",3],[\"Godzilla\",3],[\"Toy Story 2\",3],[\"Cast Away\",3],[\"Monsters, Inc.\",3],[\"Spider-Man\",3],[\"The Matrix Reloaded\",3],[\"Spider-Man 2\",3],[\"The Chronicles of Narnia: The Lion, the Witch and the Wardrobe\",3],[\"Ice Age: The Meltdown\",3],[\"Spider-Man 3\",3],[\"Kung Fu Panda\",3],[\"Ice Age: Dawn of the Dinosaurs\",3],[\"Harry Potter and the Deathly Hallows: Part 1\",3],[\"Pirates of the Caribbean: On Stranger Tides\",3],[\"The Dark Knight Rises\",3],[\"Despicable Me 2\",3],[\"Guardians of the Galaxy\",3],[\"Furious 7\",3],[\"Finding Dory\",3],[\"The Fate of the Furious\",3],[\"Jurassic World: Fallen Kingdom\",3],[\"Frozen II\",3],[\"Bad Boys for Life\",3],[\"Hi, Mom\",3],[\"Jurassic World Dominion\",3],[\"Oppenheimer\",3],[\"Night Swim\",3]],\"hovertemplate\":\"Rank=%{customdata[1]}\\u003cbr\\u003eAnno=%{x}\\u003cbr\\u003eGuadagno al botteghino (Milioni)=%{y:,.2f}\\u003cbr\\u003eTitle=%{customdata[0]}\\u003cextra\\u003e\\u003c\\u002fextra\\u003e\",\"legendgroup\":\"3\",\"line\":{\"color\":\"#00cc96\",\"dash\":\"solid\"},\"marker\":{\"symbol\":\"circle\"},\"mode\":\"lines\",\"name\":\"3\",\"orientation\":\"v\",\"showlegend\":true,\"x\":[1977,1978,1979,1980,1981,1982,1983,1984,1985,1986,1987,1988,1989,1990,1991,1992,1993,1994,1995,1996,1997,1998,1999,2000,2001,2002,2003,2004,2005,2006,2007,2008,2009,2010,2011,2012,2013,2014,2015,2016,2017,2018,2019,2020,2021,2022,2023,2024],\"xaxis\":\"x\",\"y\":[116395460.0,120098342.0,85182160.0,101300000.0,119285432.0,129795554.0,92921203.0,179870271.0,150415432.0,138545632.0,153665036.0,128152301.0,174997852.0,184208848.0,165493908.0,173585601.0,183875760.0,146282411.0,184031112.0,180981856.0,250690539.0,379014294.0,487059677.0,429632142.0,528773250.0,821708551.0,739412035.0,788618317.0,745013115.0,660998756.0,894983373.0,631744560.0,886686817.0,972050767.0,1045713802.0,1084939099.0,970766005.0,772776600.0,1515047671.0,1028570889.0,1236005118.0,1308467944.0,1450026933.0,426505244.0,822009764.0,1001978080.0,952648405.0,31895548.0],\"yaxis\":\"y\",\"type\":\"scatter\"},{\"customdata\":[[\"Saturday Night Fever\",4],[\"Every Which Way But Loose\",4],[\"Star Trek: The Motion Picture\",4],[\"Airplane!\",4],[\"Arthur\",4],[\"Rocky III\",4],[\"Trading Places\",4],[\"Gremlins\",4],[\"Rocky IV\",4],[\"The Karate Kid Part II\",4],[\"Good Morning, Vietnam\",4],[\"Big\",4],[\"Lethal Weapon 2\",4],[\"Pretty Woman\",4],[\"The Silence of the Lambs\",4],[\"Lethal Weapon 3\",4],[\"The Firm\",4],[\"The Santa Clause\",4],[\"Pocahontas\",4],[\"Jerry Maguire\",4],[\"Batman & Robin\",4],[\"There's Something About Mary\",4],[\"The Matrix\",4],[\"What Women Want\",4],[\"Shrek\",4],[\"Star Wars: Episode II - Attack of the Clones\",4],[\"Pirates of the Caribbean: The Curse of the Black Pearl\",4],[\"The Incredibles\",4],[\"War of the Worlds\",4],[\"Casino Royale\",4],[\"Shrek the Third\",4],[\"Hancock\",4],[\"Transformers: Revenge of the Fallen\",4],[\"Inception\",4],[\"The Twilight Saga: Breaking Dawn - Part 1\",4],[\"The Hobbit: An Unexpected Journey\",4],[\"The Hobbit: The Desolation of Smaug\",4],[\"Maleficent\",4],[\"Avengers: Age of Ultron\",4],[\"Zootopia\",4],[\"Despicable Me 3\",4],[\"Incredibles 2\",4],[\"Spider-Man: Far from Home\",4],[\"My People, My Homeland\",4],[\"No Time to Die\",4],[\"Doctor Strange in the Multiverse of Madness\",4],[\"Guardians of the Galaxy Vol. 3\",4],[\"Kleks Academy\",4]],\"hovertemplate\":\"Rank=%{customdata[1]}\\u003cbr\\u003eAnno=%{x}\\u003cbr\\u003eGuadagno al botteghino (Milioni)=%{y:,.2f}\\u003cbr\\u003eTitle=%{customdata[0]}\\u003cextra\\u003e\\u003c\\u002fextra\\u003e\",\"legendgroup\":\"4\",\"line\":{\"color\":\"#ab63fa\",\"dash\":\"solid\"},\"marker\":{\"symbol\":\"circle\"},\"mode\":\"lines\",\"name\":\"4\",\"orientation\":\"v\",\"showlegend\":true,\"x\":[1977,1978,1979,1980,1981,1982,1983,1984,1985,1986,1987,1988,1989,1990,1991,1992,1993,1994,1995,1996,1997,1998,1999,2000,2001,2002,2003,2004,2005,2006,2007,2008,2009,2010,2011,2012,2013,2014,2015,2016,2017,2018,2019,2020,2021,2022,2023,2024],\"xaxis\":\"x\",\"y\":[94213184.0,85196485.0,82258456.0,83453539.0,95461682.0,124146897.0,90404800.0,148168459.0,127891353.0,115103979.0,123922370.0,114968896.0,147253986.0,178406268.0,130742922.0,144731527.0,158348367.0,144833522.0,141579773.0,153952592.0,238225195.0,369884651.0,463517383.0,374111707.0,484596038.0,645256452.0,654264015.0,631442092.0,603873119.0,605999592.0,813367380.0,629443428.0,836303693.0,828258695.0,712205856.0,1017003568.0,958366855.0,758410378.0,1402805868.0,1023784195.0,1034799409.0,1242805359.0,1131927996.0,422390820.0,774153007.0,955775804.0,845555777.0,6825426.0],\"yaxis\":\"y\",\"type\":\"scatter\"},{\"customdata\":[[\"A Bridge Too Far\",5],[\"Heaven Can Wait\",5],[\"Alien\",5],[\"Any Which Way You Can\",5],[\"Stripes\",5],[\"Porky's\",5],[\"Superman III\",5],[\"The Karate Kid\",5],[\"The Color Purple\",5],[\"Star Trek IV: The Voyage Home\",5],[\"Moonstruck\",5],[\"Twins\",5],[\"Look Who's Talking\",5],[\"Teenage Mutant Ninja Turtles\",5],[\"City Slickers\",5],[\"A Few Good Men\",5],[\"Sleepless in Seattle\",5],[\"The Flintstones\",5],[\"Ace Ventura: When Nature Calls\",5],[\"Ransom\",5],[\"The Lost World: Jurassic Park\",5],[\"A Bug's Life\",5],[\"Tarzan\",5],[\"Dinosaur\",5],[\"Ocean's Eleven\",5],[\"Men in Black II\",5],[\"Bruce Almighty\",5],[\"The Passion of the Christ\",5],[\"King Kong\",5],[\"Night at the Museum\",5],[\"Transformers\",5],[\"Mamma Mia!\",5],[\"2012\",5],[\"Shrek Forever After\",5],[\"Mission: Impossible - Ghost Protocol\",5],[\"Ice Age: Continental Drift\",5],[\"The Hunger Games: Catching Fire\",5],[\"The Hunger Games: Mockingjay - Part 1\",5],[\"Minions\",5],[\"The Jungle Book\",5],[\"Jumanji: Welcome to the Jungle\",5],[\"Aquaman\",5],[\"Captain Marvel\",5],[\"Tenet\",5],[\"F9: The Fast Saga\",5],[\"Minions: The Rise of Gru\",5],[\"Fast X\",5],[\"Alienoid: The Return to the Future\",5]],\"hovertemplate\":\"Rank=%{customdata[1]}\\u003cbr\\u003eAnno=%{x}\\u003cbr\\u003eGuadagno al botteghino (Milioni)=%{y:,.2f}\\u003cbr\\u003eTitle=%{customdata[0]}\\u003cextra\\u003e\\u003c\\u002fextra\\u003e\",\"legendgroup\":\"5\",\"line\":{\"color\":\"#FFA15A\",\"dash\":\"solid\"},\"marker\":{\"symbol\":\"circle\"},\"mode\":\"lines\",\"name\":\"5\",\"orientation\":\"v\",\"showlegend\":true,\"x\":[1977,1978,1979,1980,1981,1982,1983,1984,1985,1986,1987,1988,1989,1990,1991,1992,1993,1994,1995,1996,1997,1998,1999,2000,2001,2002,2003,2004,2005,2006,2007,2008,2009,2010,2011,2012,2013,2014,2015,2016,2017,2018,2019,2020,2021,2022,2023,2024],\"xaxis\":\"x\",\"y\":[50750000.0,81640278.0,78944891.0,70687344.0,85297000.0,105492483.0,80250623.0,90815558.0,94175854.0,109713132.0,80640528.0,111938388.0,140088813.0,135265915.0,124033791.0,141354048.0,126680884.0,130531208.0,108385533.0,136492681.0,229086679.0,363258859.0,448191819.0,349822765.0,450717150.0,441818803.0,484592874.0,611486736.0,556906378.0,574480841.0,709709780.0,610002542.0,769679473.0,752600867.0,694713380.0,877244782.0,865011746.0,755356711.0,1159398397.0,966550600.0,962077546.0,1151961807.0,1128274794.0,365304105.0,726229501.0,940203765.0,704875015.0,4771858.0],\"yaxis\":\"y\",\"type\":\"scatter\"}],                        {\"template\":{\"data\":{\"barpolar\":[{\"marker\":{\"line\":{\"color\":\"white\",\"width\":0.5},\"pattern\":{\"fillmode\":\"overlay\",\"size\":10,\"solidity\":0.2}},\"type\":\"barpolar\"}],\"bar\":[{\"error_x\":{\"color\":\"#2a3f5f\"},\"error_y\":{\"color\":\"#2a3f5f\"},\"marker\":{\"line\":{\"color\":\"white\",\"width\":0.5},\"pattern\":{\"fillmode\":\"overlay\",\"size\":10,\"solidity\":0.2}},\"type\":\"bar\"}],\"carpet\":[{\"aaxis\":{\"endlinecolor\":\"#2a3f5f\",\"gridcolor\":\"#C8D4E3\",\"linecolor\":\"#C8D4E3\",\"minorgridcolor\":\"#C8D4E3\",\"startlinecolor\":\"#2a3f5f\"},\"baxis\":{\"endlinecolor\":\"#2a3f5f\",\"gridcolor\":\"#C8D4E3\",\"linecolor\":\"#C8D4E3\",\"minorgridcolor\":\"#C8D4E3\",\"startlinecolor\":\"#2a3f5f\"},\"type\":\"carpet\"}],\"choropleth\":[{\"colorbar\":{\"outlinewidth\":0,\"ticks\":\"\"},\"type\":\"choropleth\"}],\"contourcarpet\":[{\"colorbar\":{\"outlinewidth\":0,\"ticks\":\"\"},\"type\":\"contourcarpet\"}],\"contour\":[{\"colorbar\":{\"outlinewidth\":0,\"ticks\":\"\"},\"colorscale\":[[0.0,\"#0d0887\"],[0.1111111111111111,\"#46039f\"],[0.2222222222222222,\"#7201a8\"],[0.3333333333333333,\"#9c179e\"],[0.4444444444444444,\"#bd3786\"],[0.5555555555555556,\"#d8576b\"],[0.6666666666666666,\"#ed7953\"],[0.7777777777777778,\"#fb9f3a\"],[0.8888888888888888,\"#fdca26\"],[1.0,\"#f0f921\"]],\"type\":\"contour\"}],\"heatmapgl\":[{\"colorbar\":{\"outlinewidth\":0,\"ticks\":\"\"},\"colorscale\":[[0.0,\"#0d0887\"],[0.1111111111111111,\"#46039f\"],[0.2222222222222222,\"#7201a8\"],[0.3333333333333333,\"#9c179e\"],[0.4444444444444444,\"#bd3786\"],[0.5555555555555556,\"#d8576b\"],[0.6666666666666666,\"#ed7953\"],[0.7777777777777778,\"#fb9f3a\"],[0.8888888888888888,\"#fdca26\"],[1.0,\"#f0f921\"]],\"type\":\"heatmapgl\"}],\"heatmap\":[{\"colorbar\":{\"outlinewidth\":0,\"ticks\":\"\"},\"colorscale\":[[0.0,\"#0d0887\"],[0.1111111111111111,\"#46039f\"],[0.2222222222222222,\"#7201a8\"],[0.3333333333333333,\"#9c179e\"],[0.4444444444444444,\"#bd3786\"],[0.5555555555555556,\"#d8576b\"],[0.6666666666666666,\"#ed7953\"],[0.7777777777777778,\"#fb9f3a\"],[0.8888888888888888,\"#fdca26\"],[1.0,\"#f0f921\"]],\"type\":\"heatmap\"}],\"histogram2dcontour\":[{\"colorbar\":{\"outlinewidth\":0,\"ticks\":\"\"},\"colorscale\":[[0.0,\"#0d0887\"],[0.1111111111111111,\"#46039f\"],[0.2222222222222222,\"#7201a8\"],[0.3333333333333333,\"#9c179e\"],[0.4444444444444444,\"#bd3786\"],[0.5555555555555556,\"#d8576b\"],[0.6666666666666666,\"#ed7953\"],[0.7777777777777778,\"#fb9f3a\"],[0.8888888888888888,\"#fdca26\"],[1.0,\"#f0f921\"]],\"type\":\"histogram2dcontour\"}],\"histogram2d\":[{\"colorbar\":{\"outlinewidth\":0,\"ticks\":\"\"},\"colorscale\":[[0.0,\"#0d0887\"],[0.1111111111111111,\"#46039f\"],[0.2222222222222222,\"#7201a8\"],[0.3333333333333333,\"#9c179e\"],[0.4444444444444444,\"#bd3786\"],[0.5555555555555556,\"#d8576b\"],[0.6666666666666666,\"#ed7953\"],[0.7777777777777778,\"#fb9f3a\"],[0.8888888888888888,\"#fdca26\"],[1.0,\"#f0f921\"]],\"type\":\"histogram2d\"}],\"histogram\":[{\"marker\":{\"pattern\":{\"fillmode\":\"overlay\",\"size\":10,\"solidity\":0.2}},\"type\":\"histogram\"}],\"mesh3d\":[{\"colorbar\":{\"outlinewidth\":0,\"ticks\":\"\"},\"type\":\"mesh3d\"}],\"parcoords\":[{\"line\":{\"colorbar\":{\"outlinewidth\":0,\"ticks\":\"\"}},\"type\":\"parcoords\"}],\"pie\":[{\"automargin\":true,\"type\":\"pie\"}],\"scatter3d\":[{\"line\":{\"colorbar\":{\"outlinewidth\":0,\"ticks\":\"\"}},\"marker\":{\"colorbar\":{\"outlinewidth\":0,\"ticks\":\"\"}},\"type\":\"scatter3d\"}],\"scattercarpet\":[{\"marker\":{\"colorbar\":{\"outlinewidth\":0,\"ticks\":\"\"}},\"type\":\"scattercarpet\"}],\"scattergeo\":[{\"marker\":{\"colorbar\":{\"outlinewidth\":0,\"ticks\":\"\"}},\"type\":\"scattergeo\"}],\"scattergl\":[{\"marker\":{\"colorbar\":{\"outlinewidth\":0,\"ticks\":\"\"}},\"type\":\"scattergl\"}],\"scattermapbox\":[{\"marker\":{\"colorbar\":{\"outlinewidth\":0,\"ticks\":\"\"}},\"type\":\"scattermapbox\"}],\"scatterpolargl\":[{\"marker\":{\"colorbar\":{\"outlinewidth\":0,\"ticks\":\"\"}},\"type\":\"scatterpolargl\"}],\"scatterpolar\":[{\"marker\":{\"colorbar\":{\"outlinewidth\":0,\"ticks\":\"\"}},\"type\":\"scatterpolar\"}],\"scatter\":[{\"fillpattern\":{\"fillmode\":\"overlay\",\"size\":10,\"solidity\":0.2},\"type\":\"scatter\"}],\"scatterternary\":[{\"marker\":{\"colorbar\":{\"outlinewidth\":0,\"ticks\":\"\"}},\"type\":\"scatterternary\"}],\"surface\":[{\"colorbar\":{\"outlinewidth\":0,\"ticks\":\"\"},\"colorscale\":[[0.0,\"#0d0887\"],[0.1111111111111111,\"#46039f\"],[0.2222222222222222,\"#7201a8\"],[0.3333333333333333,\"#9c179e\"],[0.4444444444444444,\"#bd3786\"],[0.5555555555555556,\"#d8576b\"],[0.6666666666666666,\"#ed7953\"],[0.7777777777777778,\"#fb9f3a\"],[0.8888888888888888,\"#fdca26\"],[1.0,\"#f0f921\"]],\"type\":\"surface\"}],\"table\":[{\"cells\":{\"fill\":{\"color\":\"#EBF0F8\"},\"line\":{\"color\":\"white\"}},\"header\":{\"fill\":{\"color\":\"#C8D4E3\"},\"line\":{\"color\":\"white\"}},\"type\":\"table\"}]},\"layout\":{\"annotationdefaults\":{\"arrowcolor\":\"#2a3f5f\",\"arrowhead\":0,\"arrowwidth\":1},\"autotypenumbers\":\"strict\",\"coloraxis\":{\"colorbar\":{\"outlinewidth\":0,\"ticks\":\"\"}},\"colorscale\":{\"diverging\":[[0,\"#8e0152\"],[0.1,\"#c51b7d\"],[0.2,\"#de77ae\"],[0.3,\"#f1b6da\"],[0.4,\"#fde0ef\"],[0.5,\"#f7f7f7\"],[0.6,\"#e6f5d0\"],[0.7,\"#b8e186\"],[0.8,\"#7fbc41\"],[0.9,\"#4d9221\"],[1,\"#276419\"]],\"sequential\":[[0.0,\"#0d0887\"],[0.1111111111111111,\"#46039f\"],[0.2222222222222222,\"#7201a8\"],[0.3333333333333333,\"#9c179e\"],[0.4444444444444444,\"#bd3786\"],[0.5555555555555556,\"#d8576b\"],[0.6666666666666666,\"#ed7953\"],[0.7777777777777778,\"#fb9f3a\"],[0.8888888888888888,\"#fdca26\"],[1.0,\"#f0f921\"]],\"sequentialminus\":[[0.0,\"#0d0887\"],[0.1111111111111111,\"#46039f\"],[0.2222222222222222,\"#7201a8\"],[0.3333333333333333,\"#9c179e\"],[0.4444444444444444,\"#bd3786\"],[0.5555555555555556,\"#d8576b\"],[0.6666666666666666,\"#ed7953\"],[0.7777777777777778,\"#fb9f3a\"],[0.8888888888888888,\"#fdca26\"],[1.0,\"#f0f921\"]]},\"colorway\":[\"#636efa\",\"#EF553B\",\"#00cc96\",\"#ab63fa\",\"#FFA15A\",\"#19d3f3\",\"#FF6692\",\"#B6E880\",\"#FF97FF\",\"#FECB52\"],\"font\":{\"color\":\"#2a3f5f\"},\"geo\":{\"bgcolor\":\"white\",\"lakecolor\":\"white\",\"landcolor\":\"white\",\"showlakes\":true,\"showland\":true,\"subunitcolor\":\"#C8D4E3\"},\"hoverlabel\":{\"align\":\"left\"},\"hovermode\":\"closest\",\"mapbox\":{\"style\":\"light\"},\"paper_bgcolor\":\"white\",\"plot_bgcolor\":\"white\",\"polar\":{\"angularaxis\":{\"gridcolor\":\"#EBF0F8\",\"linecolor\":\"#EBF0F8\",\"ticks\":\"\"},\"bgcolor\":\"white\",\"radialaxis\":{\"gridcolor\":\"#EBF0F8\",\"linecolor\":\"#EBF0F8\",\"ticks\":\"\"}},\"scene\":{\"xaxis\":{\"backgroundcolor\":\"white\",\"gridcolor\":\"#DFE8F3\",\"gridwidth\":2,\"linecolor\":\"#EBF0F8\",\"showbackground\":true,\"ticks\":\"\",\"zerolinecolor\":\"#EBF0F8\"},\"yaxis\":{\"backgroundcolor\":\"white\",\"gridcolor\":\"#DFE8F3\",\"gridwidth\":2,\"linecolor\":\"#EBF0F8\",\"showbackground\":true,\"ticks\":\"\",\"zerolinecolor\":\"#EBF0F8\"},\"zaxis\":{\"backgroundcolor\":\"white\",\"gridcolor\":\"#DFE8F3\",\"gridwidth\":2,\"linecolor\":\"#EBF0F8\",\"showbackground\":true,\"ticks\":\"\",\"zerolinecolor\":\"#EBF0F8\"}},\"shapedefaults\":{\"line\":{\"color\":\"#2a3f5f\"}},\"ternary\":{\"aaxis\":{\"gridcolor\":\"#DFE8F3\",\"linecolor\":\"#A2B1C6\",\"ticks\":\"\"},\"baxis\":{\"gridcolor\":\"#DFE8F3\",\"linecolor\":\"#A2B1C6\",\"ticks\":\"\"},\"bgcolor\":\"white\",\"caxis\":{\"gridcolor\":\"#DFE8F3\",\"linecolor\":\"#A2B1C6\",\"ticks\":\"\"}},\"title\":{\"x\":0.05},\"xaxis\":{\"automargin\":true,\"gridcolor\":\"#EBF0F8\",\"linecolor\":\"#EBF0F8\",\"ticks\":\"\",\"title\":{\"standoff\":15},\"zerolinecolor\":\"#EBF0F8\",\"zerolinewidth\":2},\"yaxis\":{\"automargin\":true,\"gridcolor\":\"#EBF0F8\",\"linecolor\":\"#EBF0F8\",\"ticks\":\"\",\"title\":{\"standoff\":15},\"zerolinecolor\":\"#EBF0F8\",\"zerolinewidth\":2}}},\"xaxis\":{\"anchor\":\"y\",\"domain\":[0.0,1.0],\"title\":{\"text\":\"Anno\"}},\"yaxis\":{\"anchor\":\"x\",\"domain\":[0.0,1.0],\"title\":{\"text\":\"Guadagno al botteghino (Milioni)\"}},\"legend\":{\"title\":{\"text\":\"Rank\"},\"tracegroupgap\":0},\"title\":{\"text\":\"Andamento del Guadagno dei Top 5 film nel corso degli anni\"},\"height\":800,\"width\":1500},                        {\"responsive\": true}                    ).then(function(){\n                            \nvar gd = document.getElementById('1819812f-4d18-45f6-ba3e-c672a66a92e3');\nvar x = new MutationObserver(function (mutations, observer) {{\n        var display = window.getComputedStyle(gd).display;\n        if (!display || display === 'none') {{\n            console.log([gd, 'removed!']);\n            Plotly.purge(gd);\n            observer.disconnect();\n        }}\n}});\n\n// Listen for the removal of the full notebook cells\nvar notebookContainer = gd.closest('#notebook-container');\nif (notebookContainer) {{\n    x.observe(notebookContainer, {childList: true});\n}}\n\n// Listen for the clearing of the current output cell\nvar outputEl = gd.closest('.output');\nif (outputEl) {{\n    x.observe(outputEl, {childList: true});\n}}\n\n                        })                };                });            </script>        </div>"
     },
     "metadata": {},
     "output_type": "display_data"
    }
   ],
   "source": [
    "# Unimi 2023/2024\n",
    "# Progetto di Visualizzazione Scientifica\n",
    "# 984605 Pomayay Gabonal Angello Fernando \n",
    "# 01553A Mbaye Serigne Darou\n",
    "\n",
    "import pandas as pd\n",
    "import plotly.express as px\n",
    "import re\n",
    "\n",
    "# Soppressione degli avvertimenti\n",
    "import warnings\n",
    "warnings.simplefilter(action='ignore', category=FutureWarning)\n",
    "\n",
    "def plot_top_movies_trends(selected_ranks):\n",
    "    top_movies_data = []\n",
    "\n",
    "    for year in range(1977, 2025):\n",
    "        file_path = f'../csv_guadagni/ranking_summary_{year}.csv'\n",
    "\n",
    "        try:\n",
    "            df_data = pd.read_csv(file_path)\n",
    "            df_data['worldwide'] = df_data['worldwide'].replace('[\\$,]', '', regex=True).astype(float)\n",
    "            df_data = df_data.sort_values(by='worldwide', ascending=False)\n",
    "\n",
    "            match = re.search(r'_(\\d{4})\\.csv', file_path)\n",
    "            if match:\n",
    "                plot_year = int(match.group(1))\n",
    "            else:\n",
    "                plot_year = None\n",
    "\n",
    "            for index, row in df_data.head(5).iterrows():\n",
    "                if row['rank'] in selected_ranks:\n",
    "                    top_movies_data.append({'Year': plot_year, 'Earnings': row['worldwide'],\n",
    "                                            'Title': row['title'], 'Rank': row['rank']})\n",
    "        except FileNotFoundError:\n",
    "            print(f\"File not found for year {year}\")\n",
    "            continue\n",
    "\n",
    "    top_movies_df = pd.DataFrame(top_movies_data)\n",
    "    top_movies_df = top_movies_df.sort_values(by=['Year', 'Rank'])\n",
    "\n",
    "    fig = px.line(top_movies_df, x='Year', y='Earnings', color='Rank',\n",
    "                  labels={'Year': 'Anno', 'Earnings': 'Guadagno al botteghino (Milioni)'},\n",
    "                  title='Andamento del Guadagno dei Top 5 film nel corso degli anni',\n",
    "                  hover_data={'Title': True, 'Earnings': ':,.2f', 'Rank': True},\n",
    "                  height=800,\n",
    "                  width= 1500,\n",
    "                  template=\"plotly_white\") \n",
    "\n",
    "    fig.update_traces(marker=dict(color='black'), selector=dict(type='scatter', mode='markers'))\n",
    "    fig.write_html(\"../file_html/top_movies_trends.html\")\n",
    "    fig.show()\n",
    "\n",
    "#Selezioni i rank da mostrare\n",
    "plot_top_movies_trends([1, 2, 3, 4, 5])"
   ]
  }
 ],
 "metadata": {
  "kernelspec": {
   "display_name": "Python 3 (ipykernel)",
   "language": "python",
   "name": "python3"
  },
  "language_info": {
   "codemirror_mode": {
    "name": "ipython",
    "version": 3
   },
   "file_extension": ".py",
   "mimetype": "text/x-python",
   "name": "python",
   "nbconvert_exporter": "python",
   "pygments_lexer": "ipython3",
   "version": "3.9.13"
  }
 },
 "nbformat": 4,
 "nbformat_minor": 5
}
