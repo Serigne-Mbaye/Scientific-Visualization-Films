{
 "cells": [
  {
   "cell_type": "code",
   "execution_count": 1,
   "id": "initial_id",
   "metadata": {
    "collapsed": true,
    "ExecuteTime": {
     "end_time": "2024-01-31T16:05:21.050182600Z",
     "start_time": "2024-01-31T16:05:18.772040200Z"
    }
   },
   "outputs": [
    {
     "data": {
      "text/plain": "interactive(children=(IntSlider(value=2024, description='year', max=2024, min=1977), Output()), _dom_classes=(…",
      "application/vnd.jupyter.widget-view+json": {
       "version_major": 2,
       "version_minor": 0,
       "model_id": "bbdb5e60e7fa43d6aa7059df4f6d0a7f"
      }
     },
     "metadata": {},
     "output_type": "display_data"
    },
    {
     "data": {
      "text/plain": "<function __main__.plot_top_movies(year)>"
     },
     "execution_count": 1,
     "metadata": {},
     "output_type": "execute_result"
    }
   ],
   "source": [
    "import pandas as pd\n",
    "import matplotlib.pyplot as plt\n",
    "import plotly.express as px\n",
    "from ipywidgets import interact, widgets\n",
    "\n",
    "# Suppress FutureWarnings\n",
    "import warnings\n",
    "warnings.simplefilter(action='ignore', category=FutureWarning)\n",
    "\n",
    "def plot_top_movies(year):\n",
    "    # Construct the file path based on the year\n",
    "    file_path = f'../csv_guadagni/ranking_summary_{year}.csv'\n",
    "\n",
    "    # Read the CSV file for the given year\n",
    "    df_data = pd.read_csv(file_path)\n",
    "\n",
    "    # Convert the 'worldwide' column to numeric after removing '$' and ',' characters\n",
    "    df_data['worldwide'] = df_data['worldwide'].replace('[\\$,]', '', regex=True).astype(float)\n",
    "\n",
    "    # Sort the DataFrame by worldwide earnings in ascending order\n",
    "    df_data = df_data.sort_values(by='worldwide', ascending=True)\n",
    "\n",
    "    # Select the top 10 movies\n",
    "    top_10_movies = df_data.tail(10)\n",
    "\n",
    "    # Use the default Plotly color scale (\"viridis\") for better contrast\n",
    "    color_scale = px.colors.sequential.Viridis\n",
    "\n",
    "    # Create a bar plot for worldwide box office earnings with different colors for each rank using Plotly Express\n",
    "    fig = px.bar(top_10_movies, x='worldwide', y='title', color='rank',\n",
    "                 labels={'worldwide': 'Worldwide Box Office Earnings (in billions)',\n",
    "                         'title': 'Movie Title'},\n",
    "                 title=f'Top 10 Movies of {year} - Worldwide Box Office Earnings',\n",
    "                 color_discrete_sequence=color_scale,\n",
    "                 height=600,\n",
    "                 width=800\n",
    "                 )\n",
    "\n",
    "    # Increase bar width\n",
    "    fig.update_traces(marker=dict(line=dict(width=2)))\n",
    "\n",
    "    # Add hover text with earnings formatted as requested\n",
    "    fig.update_traces(hovertemplate='Earnings: %{x:.2f}B' if top_10_movies['worldwide'].max() >= 1e9\n",
    "                      else 'Earnings: %{x:.2f}M',\n",
    "                      selector=dict(type='bar'))\n",
    "\n",
    "    # Move legend to the top right outside the plot\n",
    "    fig.update_layout(legend=dict(orientation=\"v\", yanchor=\"top\", y=1.02, xanchor=\"right\", x=1.1),\n",
    "                      legend_traceorder=\"reversed\")\n",
    "\n",
    "    # Show the interactive plot\n",
    "    fig.show()\n",
    "\n",
    "# Create an interactive slider for the years 1977 to 2024\n",
    "interact(plot_top_movies, year=widgets.IntSlider(min=1977, max=2024, step=1, value=2024))\n"
   ]
  },
  {
   "cell_type": "code",
   "outputs": [],
   "source": [],
   "metadata": {
    "collapsed": false
   },
   "id": "be1fdb280afcc6c2"
  }
 ],
 "metadata": {
  "kernelspec": {
   "display_name": "Python 3",
   "language": "python",
   "name": "python3"
  },
  "language_info": {
   "codemirror_mode": {
    "name": "ipython",
    "version": 2
   },
   "file_extension": ".py",
   "mimetype": "text/x-python",
   "name": "python",
   "nbconvert_exporter": "python",
   "pygments_lexer": "ipython2",
   "version": "2.7.6"
  }
 },
 "nbformat": 4,
 "nbformat_minor": 5
}
