{
 "cells": [
  {
   "cell_type": "code",
   "execution_count": 4,
   "id": "initial_id",
   "metadata": {
    "collapsed": true,
    "ExecuteTime": {
     "end_time": "2024-02-03T11:53:28.923776600Z",
     "start_time": "2024-02-03T11:53:28.889625500Z"
    }
   },
   "outputs": [
    {
     "data": {
      "text/plain": "<IPython.lib.display.IFrame at 0x1b8d13e8220>",
      "text/html": "\n        <iframe\n            width=\"100%\"\n            height=\"650\"\n            src=\"http://127.0.0.1:8050/\"\n            frameborder=\"0\"\n            allowfullscreen\n            \n        ></iframe>\n        "
     },
     "metadata": {},
     "output_type": "display_data"
    },
    {
     "name": "stdout",
     "output_type": "stream",
     "text": [
      "Il server è attivo all'indirizzo: http://127.0.0.1:8050/\n"
     ]
    }
   ],
   "source": [
    "# Unimi 2023/2024\n",
    "# Progetto di Visualizzazione Scientifica\n",
    "# 984605 Pomayay Gabonal Angello Fernando \n",
    "# 01553A Mbaye Serigne Darou\n",
    "\n",
    "import pandas as pd\n",
    "import plotly.express as px\n",
    "import dash\n",
    "from dash import dcc, html, Input, Output\n",
    "\n",
    "# Selezione range anni\n",
    "years = range(1977, 2025)\n",
    "\n",
    "# Creazione dell'app dash\n",
    "app = dash.Dash(__name__)\n",
    "\n",
    "# Definizione del layout\n",
    "app.layout = html.Div([\n",
    "    html.H1(\"Top 10 Film per anno\"),\n",
    "    html.Label(\"Seleziona l'anno:\"),\n",
    "    dcc.Slider(\n",
    "        id='year-slider',\n",
    "        min=min(years),\n",
    "        max=max(years),\n",
    "        value=max(years),\n",
    "        marks={year: str(year) for year in years},\n",
    "        step=None\n",
    "    ),\n",
    "    dcc.Graph(id='top-movies-graph')\n",
    "])\n",
    "\n",
    "\n",
    "@app.callback(\n",
    "    Output('top-movies-graph', 'figure'),\n",
    "    [Input('year-slider', 'value')]\n",
    ")\n",
    "def update_graph(selected_year):\n",
    "    # Acquisizione del file CSV in base all'anno\n",
    "    file_path = f'../csv_guadagni/ranking_summary_{selected_year}.csv'\n",
    "    df_data = pd.read_csv(file_path)\n",
    "\n",
    "    # Conversione dei valori della colonna worldwide in valori numerici\n",
    "    df_data['worldwide'] = df_data['worldwide'].replace('[\\$,]', '', regex=True).astype(float)\n",
    "\n",
    "    # Ordinamento crescente dei guadagni mondiali nel DataFrame\n",
    "    df_data = df_data.sort_values(by='worldwide', ascending=True)\n",
    "\n",
    "    # Selezione dei top 10 film\n",
    "    top_10_movies = df_data.tail(10)\n",
    "\n",
    "    # Creazione del grafico\n",
    "    fig = px.bar(\n",
    "        top_10_movies,\n",
    "        x='worldwide',\n",
    "        y='title',\n",
    "        color='rank',\n",
    "        labels={'worldwide': 'Guadagno al botteghino (Milioni)', 'title': 'Titolo Film'},\n",
    "        title=f'Top 10 Film del {selected_year} - Guadagno al botteghino mondiale',\n",
    "        color_discrete_sequence=px.colors.sequential.Viridis,\n",
    "        height=800,\n",
    "        width=1800\n",
    "    )\n",
    "\n",
    "    fig.update_traces(marker=dict(line=dict(width=2)))\n",
    "\n",
    "    # Aggiunta hover\n",
    "    fig.update_traces(\n",
    "        hovertemplate='Earnings: %{x:.2f}B' if top_10_movies['worldwide'].max() >= 1e9 else 'Earnings: %{x:.2f}M',\n",
    "        selector=dict(type='bar')\n",
    "    )\n",
    "\n",
    "    \n",
    "    fig.update_layout(\n",
    "        legend=dict(orientation=\"v\", yanchor=\"top\", y=1.02, xanchor=\"right\", x=1.1),\n",
    "        legend_traceorder=\"reversed\",\n",
    "        plot_bgcolor='rgba(255, 255, 255, 0)',\n",
    "        paper_bgcolor='rgba(255, 255, 255, 0)',\n",
    "        font_color='black'\n",
    "    )\n",
    "\n",
    "    return fig\n",
    "\n",
    "\n",
    "if __name__ == '__main__':\n",
    "    port = 8050  \n",
    "    app.run_server(debug=True, port=port)\n",
    "    \n",
    "    print(f\"Il server è attivo all'indirizzo: http://127.0.0.1:{port}/\")\n"
   ]
  },
  {
   "cell_type": "code",
   "outputs": [],
   "source": [],
   "metadata": {
    "collapsed": false,
    "ExecuteTime": {
     "end_time": "2024-01-31T16:11:02.902290900Z",
     "start_time": "2024-01-31T16:11:02.889735300Z"
    }
   },
   "id": "be1fdb280afcc6c2",
   "execution_count": 4
  },
  {
   "cell_type": "code",
   "outputs": [],
   "source": [],
   "metadata": {
    "collapsed": false
   },
   "id": "8177398e18e5e571"
  }
 ],
 "metadata": {
  "kernelspec": {
   "display_name": "Python 3",
   "language": "python",
   "name": "python3"
  },
  "language_info": {
   "codemirror_mode": {
    "name": "ipython",
    "version": 2
   },
   "file_extension": ".py",
   "mimetype": "text/x-python",
   "name": "python",
   "nbconvert_exporter": "python",
   "pygments_lexer": "ipython2",
   "version": "2.7.6"
  }
 },
 "nbformat": 4,
 "nbformat_minor": 5
}
