{
 "cells": [
  {
   "cell_type": "code",
   "execution_count": 2,
   "id": "9eedae42-c9fc-456d-a84b-4be0993c069c",
   "metadata": {
    "ExecuteTime": {
     "end_time": "2024-02-06T12:00:08.764987Z",
     "start_time": "2024-02-06T12:00:08.552011200Z"
    }
   },
   "outputs": [
    {
     "data": {
      "application/vnd.plotly.v1+json": {
       "config": {
        "plotlyServerURL": "https://plot.ly"
       },
       "data": [
        {
         "coloraxis": "coloraxis",
         "geo": "geo",
         "hovertemplate": "Country=%{location}<br>Numero di Attori=%{z}<extra></extra>",
         "locationmode": "country names",
         "locations": [
          "United States of America",
          "Japan",
          "United Kingdom",
          "Germany",
          "Italy",
          "Russia",
          "India",
          "France",
          "Czech Republic",
          "Canada",
          "Spain",
          "Poland",
          "Brazil",
          "Sweden",
          "Hungary",
          "Indonesia",
          "South Korea",
          "Turkey",
          "Argentina",
          "People's Republic of China",
          "Ukraine",
          "Australia",
          "Iran",
          "Mexico",
          "Netherlands",
          "Romania",
          "Greece",
          "Philippines",
          "Belgium",
          "Israel",
          "Serbia",
          "Finland",
          "Denmark",
          "Bulgaria",
          "Austria",
          "Malaysia",
          "Norway",
          "Slovakia",
          "Thailand",
          "Colombia",
          "Egypt",
          "Azerbaijan",
          "Switzerland",
          "Chile",
          "Croatia",
          "Portugal",
          "Nigeria",
          "South Africa",
          "Taiwan",
          "Venezuela",
          "Republic of Ireland",
          "Pakistan",
          "Estonia",
          "New Zealand",
          "Peru",
          "Kazakhstan",
          "Armenia",
          "Morocco",
          "Lithuania",
          "Vietnam",
          "Belarus",
          "Latvia",
          "Georgia",
          "Slovenia",
          "Cuba",
          "Bosnia and Herzegovina",
          "Algeria",
          "Lebanon",
          "Singapore",
          "North North Macedonia",
          "Albania",
          "Uzbekistan",
          "Bangladesh",
          "Syria",
          "Sri Lanka",
          "Uruguay",
          "Tunisia",
          "Nepal",
          "Moldova",
          "Iraq",
          "Dominican Republic",
          "Myanmar",
          "Ecuador",
          "Saudi Arabia",
          "Cyprus",
          "Kingdom of the Netherlands",
          "Iceland",
          "Kosovo",
          "Ghana",
          "Kenya",
          "Kuwait",
          "Jamaica",
          "Cameroon",
          "German Democratic Republic",
          "Montenegro",
          "Luxembourg",
          "Kyrgyzstan",
          "United Arab Emirates",
          "Jordan",
          "Ivory Coast",
          "Tajikistan",
          "Haiti",
          "Bolivia",
          "Democratic Republic of the Congo",
          "Senegal",
          "Austria-Hungary",
          "Palestine",
          "Northern Cyprus",
          "Uganda",
          "Angola",
          "Zimbabwe",
          "Tanzania",
          "Trinidad and Tobago",
          "Czechoslovakia",
          "Panama",
          "Paraguay",
          "Afghanistan",
          "Mongolia",
          "Libya",
          "North Korea",
          "Costa Rica",
          "Cambodia",
          "Ethiopia",
          "Guatemala",
          "Kingdom of England",
          "Suriname",
          "Malta",
          "Bahrain",
          "Benin",
          "Mali",
          "Sudan",
          "Turkmenistan",
          "Kingdom of Castile",
          "Dutch Republic",
          "Mozambique",
          "Burkina Faso",
          "British Raj",
          "Prussia",
          "Honduras",
          "El Salvador",
          "Eritrea",
          "Guyana",
          "Somalia",
          "Principality of Bulgaria",
          "Zambia",
          "People's Republic of Bulgaria",
          "Kingdom of Bulgaria",
          "Qing Dynasty",
          "Niger",
          "Namibia",
          "Republic of the Congo",
          "Rwanda",
          "Faroe Islands",
          "Botswana",
          "Guinea",
          "Nicaragua",
          "Transnistria",
          "The Bahamas",
          "Greenland",
          "Yemen",
          "Principality of Catalonia",
          "Fiji",
          "Liberia",
          "Banten Sultanate",
          "Jersey",
          "Gabon",
          "Monaco",
          "Rhodesia",
          "Ancient Rome",
          "Equatorial Guinea",
          "Curaçao",
          "Bhutan",
          "Aruba",
          "Mauritius",
          "Oman",
          "Isle of Man",
          "Guinea-Bissau",
          "Samoa",
          "French Annam",
          "French Protectorate of Cambodia",
          "Papua New Guinea",
          "French Protectorate of Laos",
          "Tonkin",
          "Mauritania",
          "Qatar",
          "Guangzhouwan",
          "Republic of Abkhazia",
          "Belize",
          "Barbados",
          "South Ossetia",
          "Andorra",
          "Manchukuo",
          "Sierra Leone",
          "Maldives",
          "Burundi",
          "Seychelles",
          "Republic of Vietnam",
          "Laos",
          "Cape Verde",
          "Gibraltar",
          "Lesotho",
          "Djibouti",
          "Chad",
          "Zimbabwe Rhodesia",
          "Grenada",
          "Eswatini",
          "Madagascar",
          "Southern Rhodesia",
          "Ming dynasty",
          "Kingdom of Yugoslavia",
          "Socialist Federal Republic of Yugoslavia",
          "West Bank",
          "Tang dynasty",
          "Togo",
          "South Sudan",
          "Brunei",
          "Bailiwick of Guernsey",
          "Song dynasty",
          "Yuan dynasty",
          "Azerbaijan Soviet Socialist Republic",
          "Second Spanish Republic",
          "First Spanish Republic",
          "Habsburg monarchy",
          "Democratic Federal Yugoslavia",
          "United States occupation of the Ryukyu Islands",
          "Moldavian Democratic Republic",
          "Crown of Aragon",
          "Puerto Rico",
          "Lands of the Bohemian Crown",
          "Margraviate of Brandenburg",
          "East Timor",
          "Marinid dynasty",
          "Song",
          "Principality of Moldavia",
          "Zaire",
          "United Arab Republic",
          "Bermuda",
          "Kingdom of Egypt",
          "Ukrainian People's Republic",
          "The Gambia",
          "Tonga",
          "Dominion of Pakistan",
          "Tibet",
          "Antigua and Barbuda",
          "Kingdom of Hungary",
          "Ukrainian Soviet Socialist Republic",
          "Khedivate of Egypt",
          "Sultanate of Egypt",
          "Republic of Egypt",
          "Wang Jingwei regime",
          "North Macedonia",
          "Joseon",
          "Goryeo",
          "Gaza Strip",
          "Principality of Bitlis",
          "Three Kingdoms of Korea",
          "Babylonia",
          "Golan Heights",
          "German Reich",
          "Rashidun Caliphate",
          "Liechtenstein",
          "Later Silla",
          "Odessa Governorate",
          "San Marino",
          "Socialist Soviet Republic of Georgia",
          "Central African Republic",
          "Malawi",
          "Comoros",
          "Niue",
          "Congo Free State",
          "Later Three Kingdoms",
          "Somaliland",
          "First Hungarian Republic",
          "Hong Kong",
          "Bahmani Sultanate",
          "Kingdom of Portugal",
          "Iberian Union",
          "Transcaucasian Socialist Federative Soviet Republic",
          "United States Virgin Islands",
          "Union of South Africa",
          "Montserrat",
          "United Provinces of New Granada",
          "United Principalities of Moldavia and Wallachia",
          "فلسطين",
          "Kingdom of Bohemia",
          "Dominica",
          "Ukrainian State",
          "Slovak Republic",
          "Solomon Islands",
          "Siberian Republic",
          "Saint Vincent and the Grenadines",
          "West Ukrainian People's Republic",
          "São Tomé and Príncipe",
          "Telemark",
          "Vanuatu"
         ],
         "name": "",
         "type": "choropleth",
         "z": [
          25152,
          14034,
          8664,
          7222,
          5746,
          5563,
          5473,
          5442,
          4461,
          3858,
          3742,
          3506,
          3497,
          2926,
          2620,
          2612,
          2562,
          2469,
          2145,
          2068,
          1810,
          1793,
          1721,
          1643,
          1461,
          1415,
          1376,
          1188,
          1057,
          1049,
          1025,
          1020,
          983,
          963,
          961,
          869,
          838,
          777,
          751,
          736,
          692,
          683,
          677,
          662,
          620,
          574,
          566,
          564,
          559,
          523,
          479,
          451,
          425,
          414,
          407,
          401,
          372,
          366,
          352,
          318,
          310,
          303,
          298,
          269,
          267,
          261,
          252,
          245,
          232,
          226,
          214,
          211,
          209,
          204,
          200,
          182,
          168,
          146,
          139,
          138,
          125,
          123,
          121,
          114,
          105,
          104,
          102,
          91,
          91,
          82,
          77,
          76,
          76,
          66,
          62,
          59,
          57,
          56,
          54,
          52,
          52,
          51,
          50,
          49,
          48,
          47,
          45,
          44,
          43,
          42,
          41,
          40,
          40,
          40,
          35,
          35,
          35,
          35,
          34,
          32,
          30,
          30,
          29,
          29,
          28,
          27,
          26,
          26,
          25,
          25,
          24,
          23,
          22,
          19,
          18,
          17,
          17,
          17,
          16,
          16,
          16,
          15,
          14,
          13,
          13,
          13,
          13,
          12,
          12,
          12,
          12,
          12,
          12,
          11,
          11,
          11,
          10,
          10,
          10,
          10,
          10,
          9,
          9,
          9,
          9,
          9,
          9,
          8,
          8,
          8,
          8,
          7,
          7,
          7,
          7,
          7,
          7,
          7,
          7,
          7,
          7,
          7,
          7,
          7,
          7,
          7,
          7,
          6,
          6,
          6,
          6,
          6,
          5,
          5,
          5,
          5,
          5,
          5,
          5,
          4,
          4,
          4,
          4,
          4,
          4,
          4,
          4,
          4,
          4,
          4,
          4,
          4,
          3,
          3,
          3,
          3,
          3,
          3,
          3,
          3,
          2,
          2,
          2,
          2,
          2,
          2,
          2,
          2,
          2,
          2,
          2,
          2,
          2,
          2,
          2,
          2,
          2,
          2,
          2,
          2,
          2,
          2,
          2,
          2,
          2,
          2,
          2,
          2,
          2,
          2,
          1,
          1,
          1,
          1,
          1,
          1,
          1,
          1,
          1,
          1,
          1,
          1,
          1,
          1,
          1,
          1,
          1,
          1,
          1,
          1,
          1,
          1,
          1,
          1,
          1,
          1,
          1,
          1,
          1,
          1,
          1,
          1,
          1,
          1,
          1,
          1,
          1,
          1,
          1,
          1,
          1,
          1,
          1,
          1,
          1
         ]
        }
       ],
       "layout": {
        "coloraxis": {
         "cmax": 25152,
         "cmin": 0,
         "colorbar": {
          "len": 400,
          "lenmode": "pixels",
          "title": {
           "text": "Numero di Attori"
          }
         },
         "colorscale": [
          [
           0,
           "#440154"
          ],
          [
           0.1111111111111111,
           "#482878"
          ],
          [
           0.2222222222222222,
           "#3e4989"
          ],
          [
           0.3333333333333333,
           "#31688e"
          ],
          [
           0.4444444444444444,
           "#26828e"
          ],
          [
           0.5555555555555556,
           "#1f9e89"
          ],
          [
           0.6666666666666666,
           "#35b779"
          ],
          [
           0.7777777777777778,
           "#6ece58"
          ],
          [
           0.8888888888888888,
           "#b5de2b"
          ],
          [
           1,
           "#fde725"
          ]
         ]
        },
        "geo": {
         "center": {},
         "domain": {
          "x": [
           0,
           1
          ],
          "y": [
           0,
           1
          ]
         },
         "showcoastlines": true
        },
        "height": 600,
        "legend": {
         "tracegroupgap": 0
        },
        "template": {
         "data": {
          "bar": [
           {
            "error_x": {
             "color": "#2a3f5f"
            },
            "error_y": {
             "color": "#2a3f5f"
            },
            "marker": {
             "line": {
              "color": "white",
              "width": 0.5
             },
             "pattern": {
              "fillmode": "overlay",
              "size": 10,
              "solidity": 0.2
             }
            },
            "type": "bar"
           }
          ],
          "barpolar": [
           {
            "marker": {
             "line": {
              "color": "white",
              "width": 0.5
             },
             "pattern": {
              "fillmode": "overlay",
              "size": 10,
              "solidity": 0.2
             }
            },
            "type": "barpolar"
           }
          ],
          "carpet": [
           {
            "aaxis": {
             "endlinecolor": "#2a3f5f",
             "gridcolor": "#C8D4E3",
             "linecolor": "#C8D4E3",
             "minorgridcolor": "#C8D4E3",
             "startlinecolor": "#2a3f5f"
            },
            "baxis": {
             "endlinecolor": "#2a3f5f",
             "gridcolor": "#C8D4E3",
             "linecolor": "#C8D4E3",
             "minorgridcolor": "#C8D4E3",
             "startlinecolor": "#2a3f5f"
            },
            "type": "carpet"
           }
          ],
          "choropleth": [
           {
            "colorbar": {
             "outlinewidth": 0,
             "ticks": ""
            },
            "type": "choropleth"
           }
          ],
          "contour": [
           {
            "colorbar": {
             "outlinewidth": 0,
             "ticks": ""
            },
            "colorscale": [
             [
              0,
              "#0d0887"
             ],
             [
              0.1111111111111111,
              "#46039f"
             ],
             [
              0.2222222222222222,
              "#7201a8"
             ],
             [
              0.3333333333333333,
              "#9c179e"
             ],
             [
              0.4444444444444444,
              "#bd3786"
             ],
             [
              0.5555555555555556,
              "#d8576b"
             ],
             [
              0.6666666666666666,
              "#ed7953"
             ],
             [
              0.7777777777777778,
              "#fb9f3a"
             ],
             [
              0.8888888888888888,
              "#fdca26"
             ],
             [
              1,
              "#f0f921"
             ]
            ],
            "type": "contour"
           }
          ],
          "contourcarpet": [
           {
            "colorbar": {
             "outlinewidth": 0,
             "ticks": ""
            },
            "type": "contourcarpet"
           }
          ],
          "heatmap": [
           {
            "colorbar": {
             "outlinewidth": 0,
             "ticks": ""
            },
            "colorscale": [
             [
              0,
              "#0d0887"
             ],
             [
              0.1111111111111111,
              "#46039f"
             ],
             [
              0.2222222222222222,
              "#7201a8"
             ],
             [
              0.3333333333333333,
              "#9c179e"
             ],
             [
              0.4444444444444444,
              "#bd3786"
             ],
             [
              0.5555555555555556,
              "#d8576b"
             ],
             [
              0.6666666666666666,
              "#ed7953"
             ],
             [
              0.7777777777777778,
              "#fb9f3a"
             ],
             [
              0.8888888888888888,
              "#fdca26"
             ],
             [
              1,
              "#f0f921"
             ]
            ],
            "type": "heatmap"
           }
          ],
          "heatmapgl": [
           {
            "colorbar": {
             "outlinewidth": 0,
             "ticks": ""
            },
            "colorscale": [
             [
              0,
              "#0d0887"
             ],
             [
              0.1111111111111111,
              "#46039f"
             ],
             [
              0.2222222222222222,
              "#7201a8"
             ],
             [
              0.3333333333333333,
              "#9c179e"
             ],
             [
              0.4444444444444444,
              "#bd3786"
             ],
             [
              0.5555555555555556,
              "#d8576b"
             ],
             [
              0.6666666666666666,
              "#ed7953"
             ],
             [
              0.7777777777777778,
              "#fb9f3a"
             ],
             [
              0.8888888888888888,
              "#fdca26"
             ],
             [
              1,
              "#f0f921"
             ]
            ],
            "type": "heatmapgl"
           }
          ],
          "histogram": [
           {
            "marker": {
             "pattern": {
              "fillmode": "overlay",
              "size": 10,
              "solidity": 0.2
             }
            },
            "type": "histogram"
           }
          ],
          "histogram2d": [
           {
            "colorbar": {
             "outlinewidth": 0,
             "ticks": ""
            },
            "colorscale": [
             [
              0,
              "#0d0887"
             ],
             [
              0.1111111111111111,
              "#46039f"
             ],
             [
              0.2222222222222222,
              "#7201a8"
             ],
             [
              0.3333333333333333,
              "#9c179e"
             ],
             [
              0.4444444444444444,
              "#bd3786"
             ],
             [
              0.5555555555555556,
              "#d8576b"
             ],
             [
              0.6666666666666666,
              "#ed7953"
             ],
             [
              0.7777777777777778,
              "#fb9f3a"
             ],
             [
              0.8888888888888888,
              "#fdca26"
             ],
             [
              1,
              "#f0f921"
             ]
            ],
            "type": "histogram2d"
           }
          ],
          "histogram2dcontour": [
           {
            "colorbar": {
             "outlinewidth": 0,
             "ticks": ""
            },
            "colorscale": [
             [
              0,
              "#0d0887"
             ],
             [
              0.1111111111111111,
              "#46039f"
             ],
             [
              0.2222222222222222,
              "#7201a8"
             ],
             [
              0.3333333333333333,
              "#9c179e"
             ],
             [
              0.4444444444444444,
              "#bd3786"
             ],
             [
              0.5555555555555556,
              "#d8576b"
             ],
             [
              0.6666666666666666,
              "#ed7953"
             ],
             [
              0.7777777777777778,
              "#fb9f3a"
             ],
             [
              0.8888888888888888,
              "#fdca26"
             ],
             [
              1,
              "#f0f921"
             ]
            ],
            "type": "histogram2dcontour"
           }
          ],
          "mesh3d": [
           {
            "colorbar": {
             "outlinewidth": 0,
             "ticks": ""
            },
            "type": "mesh3d"
           }
          ],
          "parcoords": [
           {
            "line": {
             "colorbar": {
              "outlinewidth": 0,
              "ticks": ""
             }
            },
            "type": "parcoords"
           }
          ],
          "pie": [
           {
            "automargin": true,
            "type": "pie"
           }
          ],
          "scatter": [
           {
            "fillpattern": {
             "fillmode": "overlay",
             "size": 10,
             "solidity": 0.2
            },
            "type": "scatter"
           }
          ],
          "scatter3d": [
           {
            "line": {
             "colorbar": {
              "outlinewidth": 0,
              "ticks": ""
             }
            },
            "marker": {
             "colorbar": {
              "outlinewidth": 0,
              "ticks": ""
             }
            },
            "type": "scatter3d"
           }
          ],
          "scattercarpet": [
           {
            "marker": {
             "colorbar": {
              "outlinewidth": 0,
              "ticks": ""
             }
            },
            "type": "scattercarpet"
           }
          ],
          "scattergeo": [
           {
            "marker": {
             "colorbar": {
              "outlinewidth": 0,
              "ticks": ""
             }
            },
            "type": "scattergeo"
           }
          ],
          "scattergl": [
           {
            "marker": {
             "colorbar": {
              "outlinewidth": 0,
              "ticks": ""
             }
            },
            "type": "scattergl"
           }
          ],
          "scattermapbox": [
           {
            "marker": {
             "colorbar": {
              "outlinewidth": 0,
              "ticks": ""
             }
            },
            "type": "scattermapbox"
           }
          ],
          "scatterpolar": [
           {
            "marker": {
             "colorbar": {
              "outlinewidth": 0,
              "ticks": ""
             }
            },
            "type": "scatterpolar"
           }
          ],
          "scatterpolargl": [
           {
            "marker": {
             "colorbar": {
              "outlinewidth": 0,
              "ticks": ""
             }
            },
            "type": "scatterpolargl"
           }
          ],
          "scatterternary": [
           {
            "marker": {
             "colorbar": {
              "outlinewidth": 0,
              "ticks": ""
             }
            },
            "type": "scatterternary"
           }
          ],
          "surface": [
           {
            "colorbar": {
             "outlinewidth": 0,
             "ticks": ""
            },
            "colorscale": [
             [
              0,
              "#0d0887"
             ],
             [
              0.1111111111111111,
              "#46039f"
             ],
             [
              0.2222222222222222,
              "#7201a8"
             ],
             [
              0.3333333333333333,
              "#9c179e"
             ],
             [
              0.4444444444444444,
              "#bd3786"
             ],
             [
              0.5555555555555556,
              "#d8576b"
             ],
             [
              0.6666666666666666,
              "#ed7953"
             ],
             [
              0.7777777777777778,
              "#fb9f3a"
             ],
             [
              0.8888888888888888,
              "#fdca26"
             ],
             [
              1,
              "#f0f921"
             ]
            ],
            "type": "surface"
           }
          ],
          "table": [
           {
            "cells": {
             "fill": {
              "color": "#EBF0F8"
             },
             "line": {
              "color": "white"
             }
            },
            "header": {
             "fill": {
              "color": "#C8D4E3"
             },
             "line": {
              "color": "white"
             }
            },
            "type": "table"
           }
          ]
         },
         "layout": {
          "annotationdefaults": {
           "arrowcolor": "#2a3f5f",
           "arrowhead": 0,
           "arrowwidth": 1
          },
          "autotypenumbers": "strict",
          "coloraxis": {
           "colorbar": {
            "outlinewidth": 0,
            "ticks": ""
           }
          },
          "colorscale": {
           "diverging": [
            [
             0,
             "#8e0152"
            ],
            [
             0.1,
             "#c51b7d"
            ],
            [
             0.2,
             "#de77ae"
            ],
            [
             0.3,
             "#f1b6da"
            ],
            [
             0.4,
             "#fde0ef"
            ],
            [
             0.5,
             "#f7f7f7"
            ],
            [
             0.6,
             "#e6f5d0"
            ],
            [
             0.7,
             "#b8e186"
            ],
            [
             0.8,
             "#7fbc41"
            ],
            [
             0.9,
             "#4d9221"
            ],
            [
             1,
             "#276419"
            ]
           ],
           "sequential": [
            [
             0,
             "#0d0887"
            ],
            [
             0.1111111111111111,
             "#46039f"
            ],
            [
             0.2222222222222222,
             "#7201a8"
            ],
            [
             0.3333333333333333,
             "#9c179e"
            ],
            [
             0.4444444444444444,
             "#bd3786"
            ],
            [
             0.5555555555555556,
             "#d8576b"
            ],
            [
             0.6666666666666666,
             "#ed7953"
            ],
            [
             0.7777777777777778,
             "#fb9f3a"
            ],
            [
             0.8888888888888888,
             "#fdca26"
            ],
            [
             1,
             "#f0f921"
            ]
           ],
           "sequentialminus": [
            [
             0,
             "#0d0887"
            ],
            [
             0.1111111111111111,
             "#46039f"
            ],
            [
             0.2222222222222222,
             "#7201a8"
            ],
            [
             0.3333333333333333,
             "#9c179e"
            ],
            [
             0.4444444444444444,
             "#bd3786"
            ],
            [
             0.5555555555555556,
             "#d8576b"
            ],
            [
             0.6666666666666666,
             "#ed7953"
            ],
            [
             0.7777777777777778,
             "#fb9f3a"
            ],
            [
             0.8888888888888888,
             "#fdca26"
            ],
            [
             1,
             "#f0f921"
            ]
           ]
          },
          "colorway": [
           "#636efa",
           "#EF553B",
           "#00cc96",
           "#ab63fa",
           "#FFA15A",
           "#19d3f3",
           "#FF6692",
           "#B6E880",
           "#FF97FF",
           "#FECB52"
          ],
          "font": {
           "color": "#2a3f5f"
          },
          "geo": {
           "bgcolor": "white",
           "lakecolor": "white",
           "landcolor": "white",
           "showlakes": true,
           "showland": true,
           "subunitcolor": "#C8D4E3"
          },
          "hoverlabel": {
           "align": "left"
          },
          "hovermode": "closest",
          "mapbox": {
           "style": "light"
          },
          "paper_bgcolor": "white",
          "plot_bgcolor": "white",
          "polar": {
           "angularaxis": {
            "gridcolor": "#EBF0F8",
            "linecolor": "#EBF0F8",
            "ticks": ""
           },
           "bgcolor": "white",
           "radialaxis": {
            "gridcolor": "#EBF0F8",
            "linecolor": "#EBF0F8",
            "ticks": ""
           }
          },
          "scene": {
           "xaxis": {
            "backgroundcolor": "white",
            "gridcolor": "#DFE8F3",
            "gridwidth": 2,
            "linecolor": "#EBF0F8",
            "showbackground": true,
            "ticks": "",
            "zerolinecolor": "#EBF0F8"
           },
           "yaxis": {
            "backgroundcolor": "white",
            "gridcolor": "#DFE8F3",
            "gridwidth": 2,
            "linecolor": "#EBF0F8",
            "showbackground": true,
            "ticks": "",
            "zerolinecolor": "#EBF0F8"
           },
           "zaxis": {
            "backgroundcolor": "white",
            "gridcolor": "#DFE8F3",
            "gridwidth": 2,
            "linecolor": "#EBF0F8",
            "showbackground": true,
            "ticks": "",
            "zerolinecolor": "#EBF0F8"
           }
          },
          "shapedefaults": {
           "line": {
            "color": "#2a3f5f"
           }
          },
          "ternary": {
           "aaxis": {
            "gridcolor": "#DFE8F3",
            "linecolor": "#A2B1C6",
            "ticks": ""
           },
           "baxis": {
            "gridcolor": "#DFE8F3",
            "linecolor": "#A2B1C6",
            "ticks": ""
           },
           "bgcolor": "white",
           "caxis": {
            "gridcolor": "#DFE8F3",
            "linecolor": "#A2B1C6",
            "ticks": ""
           }
          },
          "title": {
           "x": 0.05
          },
          "xaxis": {
           "automargin": true,
           "gridcolor": "#EBF0F8",
           "linecolor": "#EBF0F8",
           "ticks": "",
           "title": {
            "standoff": 15
           },
           "zerolinecolor": "#EBF0F8",
           "zerolinewidth": 2
          },
          "yaxis": {
           "automargin": true,
           "gridcolor": "#EBF0F8",
           "linecolor": "#EBF0F8",
           "ticks": "",
           "title": {
            "standoff": 15
           },
           "zerolinecolor": "#EBF0F8",
           "zerolinewidth": 2
          }
         }
        },
        "title": {
         "text": "Numero di attori per stato<br>Dati presi da Wikidata sugli attori dal 1920 al 2024"
        },
        "width": 900
       }
      },
      "image/png": "[encoded data removed]",
      "text/html": [
       "<div>                            <div id=\"5ef7daa9-0450-4688-84aa-f2c50a564a58\" class=\"plotly-graph-div\" style=\"height:600px; width:900px;\"></div>            <script type=\"text/javascript\">                require([\"plotly\"], function(Plotly) {                    window.PLOTLYENV=window.PLOTLYENV || {};                                    if (document.getElementById(\"5ef7daa9-0450-4688-84aa-f2c50a564a58\")) {                    Plotly.newPlot(                        \"5ef7daa9-0450-4688-84aa-f2c50a564a58\",                        [{\"coloraxis\":\"coloraxis\",\"geo\":\"geo\",\"hovertemplate\":\"Country=%{location}\\u003cbr\\u003eNumero di Attori=%{z}\\u003cextra\\u003e\\u003c\\u002fextra\\u003e\",\"locationmode\":\"country names\",\"locations\":[\"United States of America\",\"Japan\",\"United Kingdom\",\"Germany\",\"Italy\",\"Russia\",\"India\",\"France\",\"Czech Republic\",\"Canada\",\"Spain\",\"Poland\",\"Brazil\",\"Sweden\",\"Hungary\",\"Indonesia\",\"South Korea\",\"Turkey\",\"Argentina\",\"People's Republic of China\",\"Ukraine\",\"Australia\",\"Iran\",\"Mexico\",\"Netherlands\",\"Romania\",\"Greece\",\"Philippines\",\"Belgium\",\"Israel\",\"Serbia\",\"Finland\",\"Denmark\",\"Bulgaria\",\"Austria\",\"Malaysia\",\"Norway\",\"Slovakia\",\"Thailand\",\"Colombia\",\"Egypt\",\"Azerbaijan\",\"Switzerland\",\"Chile\",\"Croatia\",\"Portugal\",\"Nigeria\",\"South Africa\",\"Taiwan\",\"Venezuela\",\"Republic of Ireland\",\"Pakistan\",\"Estonia\",\"New Zealand\",\"Peru\",\"Kazakhstan\",\"Armenia\",\"Morocco\",\"Lithuania\",\"Vietnam\",\"Belarus\",\"Latvia\",\"Georgia\",\"Slovenia\",\"Cuba\",\"Bosnia and Herzegovina\",\"Algeria\",\"Lebanon\",\"Singapore\",\"North North Macedonia\",\"Albania\",\"Uzbekistan\",\"Bangladesh\",\"Syria\",\"Sri Lanka\",\"Uruguay\",\"Tunisia\",\"Nepal\",\"Moldova\",\"Iraq\",\"Dominican Republic\",\"Myanmar\",\"Ecuador\",\"Saudi Arabia\",\"Cyprus\",\"Kingdom of the Netherlands\",\"Iceland\",\"Kosovo\",\"Ghana\",\"Kenya\",\"Kuwait\",\"Jamaica\",\"Cameroon\",\"German Democratic Republic\",\"Montenegro\",\"Luxembourg\",\"Kyrgyzstan\",\"United Arab Emirates\",\"Jordan\",\"Ivory Coast\",\"Tajikistan\",\"Haiti\",\"Bolivia\",\"Democratic Republic of the Congo\",\"Senegal\",\"Austria-Hungary\",\"Palestine\",\"Northern Cyprus\",\"Uganda\",\"Angola\",\"Zimbabwe\",\"Tanzania\",\"Trinidad and Tobago\",\"Czechoslovakia\",\"Panama\",\"Paraguay\",\"Afghanistan\",\"Mongolia\",\"Libya\",\"North Korea\",\"Costa Rica\",\"Cambodia\",\"Ethiopia\",\"Guatemala\",\"Kingdom of England\",\"Suriname\",\"Malta\",\"Bahrain\",\"Benin\",\"Mali\",\"Sudan\",\"Turkmenistan\",\"Kingdom of Castile\",\"Dutch Republic\",\"Mozambique\",\"Burkina Faso\",\"British Raj\",\"Prussia\",\"Honduras\",\"El Salvador\",\"Eritrea\",\"Guyana\",\"Somalia\",\"Principality of Bulgaria\",\"Zambia\",\"People's Republic of Bulgaria\",\"Kingdom of Bulgaria\",\"Qing Dynasty\",\"Niger\",\"Namibia\",\"Republic of the Congo\",\"Rwanda\",\"Faroe Islands\",\"Botswana\",\"Guinea\",\"Nicaragua\",\"Transnistria\",\"The Bahamas\",\"Greenland\",\"Yemen\",\"Principality of Catalonia\",\"Fiji\",\"Liberia\",\"Banten Sultanate\",\"Jersey\",\"Gabon\",\"Monaco\",\"Rhodesia\",\"Ancient Rome\",\"Equatorial Guinea\",\"Cura\\u00e7ao\",\"Bhutan\",\"Aruba\",\"Mauritius\",\"Oman\",\"Isle of Man\",\"Guinea-Bissau\",\"Samoa\",\"French Annam\",\"French Protectorate of Cambodia\",\"Papua New Guinea\",\"French Protectorate of Laos\",\"Tonkin\",\"Mauritania\",\"Qatar\",\"Guangzhouwan\",\"Republic of Abkhazia\",\"Belize\",\"Barbados\",\"South Ossetia\",\"Andorra\",\"Manchukuo\",\"Sierra Leone\",\"Maldives\",\"Burundi\",\"Seychelles\",\"Republic of Vietnam\",\"Laos\",\"Cape Verde\",\"Gibraltar\",\"Lesotho\",\"Djibouti\",\"Chad\",\"Zimbabwe Rhodesia\",\"Grenada\",\"Eswatini\",\"Madagascar\",\"Southern Rhodesia\",\"Ming dynasty\",\"Kingdom of Yugoslavia\",\"Socialist Federal Republic of Yugoslavia\",\"West Bank\",\"Tang dynasty\",\"Togo\",\"South Sudan\",\"Brunei\",\"Bailiwick of Guernsey\",\"Song dynasty\",\"Yuan dynasty\",\"Azerbaijan Soviet Socialist Republic\",\"Second Spanish Republic\",\"First Spanish Republic\",\"Habsburg monarchy\",\"Democratic Federal Yugoslavia\",\"United States occupation of the Ryukyu Islands\",\"Moldavian Democratic Republic\",\"Crown of Aragon\",\"Puerto Rico\",\"Lands of the Bohemian Crown\",\"Margraviate of Brandenburg\",\"East Timor\",\"Marinid dynasty\",\"Song\",\"Principality of Moldavia\",\"Zaire\",\"United Arab Republic\",\"Bermuda\",\"Kingdom of Egypt\",\"Ukrainian People's Republic\",\"The Gambia\",\"Tonga\",\"Dominion of Pakistan\",\"Tibet\",\"Antigua and Barbuda\",\"Kingdom of Hungary\",\"Ukrainian Soviet Socialist Republic\",\"Khedivate of Egypt\",\"Sultanate of Egypt\",\"Republic of Egypt\",\"Wang Jingwei regime\",\"North Macedonia\",\"Joseon\",\"Goryeo\",\"Gaza Strip\",\"Principality of Bitlis\",\"Three Kingdoms of Korea\",\"Babylonia\",\"Golan Heights\",\"German Reich\",\"Rashidun Caliphate\",\"Liechtenstein\",\"Later Silla\",\"Odessa Governorate\",\"San Marino\",\"Socialist Soviet Republic of Georgia\",\"Central African Republic\",\"Malawi\",\"Comoros\",\"Niue\",\"Congo Free State\",\"Later Three Kingdoms\",\"Somaliland\",\"First Hungarian Republic\",\"Hong Kong\",\"Bahmani Sultanate\",\"Kingdom of Portugal\",\"Iberian Union\",\"Transcaucasian Socialist Federative Soviet Republic\",\"United States Virgin Islands\",\"Union of South Africa\",\"Montserrat\",\"United Provinces of New Granada\",\"United Principalities of Moldavia and Wallachia\",\"\\u0641\\u0644\\u0633\\u0637\\u064a\\u0646\",\"Kingdom of Bohemia\",\"Dominica\",\"Ukrainian State\",\"Slovak Republic\",\"Solomon Islands\",\"Siberian Republic\",\"Saint Vincent and the Grenadines\",\"West Ukrainian People's Republic\",\"S\\u00e3o Tom\\u00e9 and Pr\\u00edncipe\",\"Telemark\",\"Vanuatu\"],\"name\":\"\",\"z\":[25152,14034,8664,7222,5746,5563,5473,5442,4461,3858,3742,3506,3497,2926,2620,2612,2562,2469,2145,2068,1810,1793,1721,1643,1461,1415,1376,1188,1057,1049,1025,1020,983,963,961,869,838,777,751,736,692,683,677,662,620,574,566,564,559,523,479,451,425,414,407,401,372,366,352,318,310,303,298,269,267,261,252,245,232,226,214,211,209,204,200,182,168,146,139,138,125,123,121,114,105,104,102,91,91,82,77,76,76,66,62,59,57,56,54,52,52,51,50,49,48,47,45,44,43,42,41,40,40,40,35,35,35,35,34,32,30,30,29,29,28,27,26,26,25,25,24,23,22,19,18,17,17,17,16,16,16,15,14,13,13,13,13,12,12,12,12,12,12,11,11,11,10,10,10,10,10,9,9,9,9,9,9,8,8,8,8,7,7,7,7,7,7,7,7,7,7,7,7,7,7,7,7,6,6,6,6,6,5,5,5,5,5,5,5,4,4,4,4,4,4,4,4,4,4,4,4,4,3,3,3,3,3,3,3,3,2,2,2,2,2,2,2,2,2,2,2,2,2,2,2,2,2,2,2,2,2,2,2,2,2,2,2,2,2,2,1,1,1,1,1,1,1,1,1,1,1,1,1,1,1,1,1,1,1,1,1,1,1,1,1,1,1,1,1,1,1,1,1,1,1,1,1,1,1,1,1,1,1,1,1],\"type\":\"choropleth\"}],                        {\"template\":{\"data\":{\"barpolar\":[{\"marker\":{\"line\":{\"color\":\"white\",\"width\":0.5},\"pattern\":{\"fillmode\":\"overlay\",\"size\":10,\"solidity\":0.2}},\"type\":\"barpolar\"}],\"bar\":[{\"error_x\":{\"color\":\"#2a3f5f\"},\"error_y\":{\"color\":\"#2a3f5f\"},\"marker\":{\"line\":{\"color\":\"white\",\"width\":0.5},\"pattern\":{\"fillmode\":\"overlay\",\"size\":10,\"solidity\":0.2}},\"type\":\"bar\"}],\"carpet\":[{\"aaxis\":{\"endlinecolor\":\"#2a3f5f\",\"gridcolor\":\"#C8D4E3\",\"linecolor\":\"#C8D4E3\",\"minorgridcolor\":\"#C8D4E3\",\"startlinecolor\":\"#2a3f5f\"},\"baxis\":{\"endlinecolor\":\"#2a3f5f\",\"gridcolor\":\"#C8D4E3\",\"linecolor\":\"#C8D4E3\",\"minorgridcolor\":\"#C8D4E3\",\"startlinecolor\":\"#2a3f5f\"},\"type\":\"carpet\"}],\"choropleth\":[{\"colorbar\":{\"outlinewidth\":0,\"ticks\":\"\"},\"type\":\"choropleth\"}],\"contourcarpet\":[{\"colorbar\":{\"outlinewidth\":0,\"ticks\":\"\"},\"type\":\"contourcarpet\"}],\"contour\":[{\"colorbar\":{\"outlinewidth\":0,\"ticks\":\"\"},\"colorscale\":[[0.0,\"#0d0887\"],[0.1111111111111111,\"#46039f\"],[0.2222222222222222,\"#7201a8\"],[0.3333333333333333,\"#9c179e\"],[0.4444444444444444,\"#bd3786\"],[0.5555555555555556,\"#d8576b\"],[0.6666666666666666,\"#ed7953\"],[0.7777777777777778,\"#fb9f3a\"],[0.8888888888888888,\"#fdca26\"],[1.0,\"#f0f921\"]],\"type\":\"contour\"}],\"heatmapgl\":[{\"colorbar\":{\"outlinewidth\":0,\"ticks\":\"\"},\"colorscale\":[[0.0,\"#0d0887\"],[0.1111111111111111,\"#46039f\"],[0.2222222222222222,\"#7201a8\"],[0.3333333333333333,\"#9c179e\"],[0.4444444444444444,\"#bd3786\"],[0.5555555555555556,\"#d8576b\"],[0.6666666666666666,\"#ed7953\"],[0.7777777777777778,\"#fb9f3a\"],[0.8888888888888888,\"#fdca26\"],[1.0,\"#f0f921\"]],\"type\":\"heatmapgl\"}],\"heatmap\":[{\"colorbar\":{\"outlinewidth\":0,\"ticks\":\"\"},\"colorscale\":[[0.0,\"#0d0887\"],[0.1111111111111111,\"#46039f\"],[0.2222222222222222,\"#7201a8\"],[0.3333333333333333,\"#9c179e\"],[0.4444444444444444,\"#bd3786\"],[0.5555555555555556,\"#d8576b\"],[0.6666666666666666,\"#ed7953\"],[0.7777777777777778,\"#fb9f3a\"],[0.8888888888888888,\"#fdca26\"],[1.0,\"#f0f921\"]],\"type\":\"heatmap\"}],\"histogram2dcontour\":[{\"colorbar\":{\"outlinewidth\":0,\"ticks\":\"\"},\"colorscale\":[[0.0,\"#0d0887\"],[0.1111111111111111,\"#46039f\"],[0.2222222222222222,\"#7201a8\"],[0.3333333333333333,\"#9c179e\"],[0.4444444444444444,\"#bd3786\"],[0.5555555555555556,\"#d8576b\"],[0.6666666666666666,\"#ed7953\"],[0.7777777777777778,\"#fb9f3a\"],[0.8888888888888888,\"#fdca26\"],[1.0,\"#f0f921\"]],\"type\":\"histogram2dcontour\"}],\"histogram2d\":[{\"colorbar\":{\"outlinewidth\":0,\"ticks\":\"\"},\"colorscale\":[[0.0,\"#0d0887\"],[0.1111111111111111,\"#46039f\"],[0.2222222222222222,\"#7201a8\"],[0.3333333333333333,\"#9c179e\"],[0.4444444444444444,\"#bd3786\"],[0.5555555555555556,\"#d8576b\"],[0.6666666666666666,\"#ed7953\"],[0.7777777777777778,\"#fb9f3a\"],[0.8888888888888888,\"#fdca26\"],[1.0,\"#f0f921\"]],\"type\":\"histogram2d\"}],\"histogram\":[{\"marker\":{\"pattern\":{\"fillmode\":\"overlay\",\"size\":10,\"solidity\":0.2}},\"type\":\"histogram\"}],\"mesh3d\":[{\"colorbar\":{\"outlinewidth\":0,\"ticks\":\"\"},\"type\":\"mesh3d\"}],\"parcoords\":[{\"line\":{\"colorbar\":{\"outlinewidth\":0,\"ticks\":\"\"}},\"type\":\"parcoords\"}],\"pie\":[{\"automargin\":true,\"type\":\"pie\"}],\"scatter3d\":[{\"line\":{\"colorbar\":{\"outlinewidth\":0,\"ticks\":\"\"}},\"marker\":{\"colorbar\":{\"outlinewidth\":0,\"ticks\":\"\"}},\"type\":\"scatter3d\"}],\"scattercarpet\":[{\"marker\":{\"colorbar\":{\"outlinewidth\":0,\"ticks\":\"\"}},\"type\":\"scattercarpet\"}],\"scattergeo\":[{\"marker\":{\"colorbar\":{\"outlinewidth\":0,\"ticks\":\"\"}},\"type\":\"scattergeo\"}],\"scattergl\":[{\"marker\":{\"colorbar\":{\"outlinewidth\":0,\"ticks\":\"\"}},\"type\":\"scattergl\"}],\"scattermapbox\":[{\"marker\":{\"colorbar\":{\"outlinewidth\":0,\"ticks\":\"\"}},\"type\":\"scattermapbox\"}],\"scatterpolargl\":[{\"marker\":{\"colorbar\":{\"outlinewidth\":0,\"ticks\":\"\"}},\"type\":\"scatterpolargl\"}],\"scatterpolar\":[{\"marker\":{\"colorbar\":{\"outlinewidth\":0,\"ticks\":\"\"}},\"type\":\"scatterpolar\"}],\"scatter\":[{\"fillpattern\":{\"fillmode\":\"overlay\",\"size\":10,\"solidity\":0.2},\"type\":\"scatter\"}],\"scatterternary\":[{\"marker\":{\"colorbar\":{\"outlinewidth\":0,\"ticks\":\"\"}},\"type\":\"scatterternary\"}],\"surface\":[{\"colorbar\":{\"outlinewidth\":0,\"ticks\":\"\"},\"colorscale\":[[0.0,\"#0d0887\"],[0.1111111111111111,\"#46039f\"],[0.2222222222222222,\"#7201a8\"],[0.3333333333333333,\"#9c179e\"],[0.4444444444444444,\"#bd3786\"],[0.5555555555555556,\"#d8576b\"],[0.6666666666666666,\"#ed7953\"],[0.7777777777777778,\"#fb9f3a\"],[0.8888888888888888,\"#fdca26\"],[1.0,\"#f0f921\"]],\"type\":\"surface\"}],\"table\":[{\"cells\":{\"fill\":{\"color\":\"#EBF0F8\"},\"line\":{\"color\":\"white\"}},\"header\":{\"fill\":{\"color\":\"#C8D4E3\"},\"line\":{\"color\":\"white\"}},\"type\":\"table\"}]},\"layout\":{\"annotationdefaults\":{\"arrowcolor\":\"#2a3f5f\",\"arrowhead\":0,\"arrowwidth\":1},\"autotypenumbers\":\"strict\",\"coloraxis\":{\"colorbar\":{\"outlinewidth\":0,\"ticks\":\"\"}},\"colorscale\":{\"diverging\":[[0,\"#8e0152\"],[0.1,\"#c51b7d\"],[0.2,\"#de77ae\"],[0.3,\"#f1b6da\"],[0.4,\"#fde0ef\"],[0.5,\"#f7f7f7\"],[0.6,\"#e6f5d0\"],[0.7,\"#b8e186\"],[0.8,\"#7fbc41\"],[0.9,\"#4d9221\"],[1,\"#276419\"]],\"sequential\":[[0.0,\"#0d0887\"],[0.1111111111111111,\"#46039f\"],[0.2222222222222222,\"#7201a8\"],[0.3333333333333333,\"#9c179e\"],[0.4444444444444444,\"#bd3786\"],[0.5555555555555556,\"#d8576b\"],[0.6666666666666666,\"#ed7953\"],[0.7777777777777778,\"#fb9f3a\"],[0.8888888888888888,\"#fdca26\"],[1.0,\"#f0f921\"]],\"sequentialminus\":[[0.0,\"#0d0887\"],[0.1111111111111111,\"#46039f\"],[0.2222222222222222,\"#7201a8\"],[0.3333333333333333,\"#9c179e\"],[0.4444444444444444,\"#bd3786\"],[0.5555555555555556,\"#d8576b\"],[0.6666666666666666,\"#ed7953\"],[0.7777777777777778,\"#fb9f3a\"],[0.8888888888888888,\"#fdca26\"],[1.0,\"#f0f921\"]]},\"colorway\":[\"#636efa\",\"#EF553B\",\"#00cc96\",\"#ab63fa\",\"#FFA15A\",\"#19d3f3\",\"#FF6692\",\"#B6E880\",\"#FF97FF\",\"#FECB52\"],\"font\":{\"color\":\"#2a3f5f\"},\"geo\":{\"bgcolor\":\"white\",\"lakecolor\":\"white\",\"landcolor\":\"white\",\"showlakes\":true,\"showland\":true,\"subunitcolor\":\"#C8D4E3\"},\"hoverlabel\":{\"align\":\"left\"},\"hovermode\":\"closest\",\"mapbox\":{\"style\":\"light\"},\"paper_bgcolor\":\"white\",\"plot_bgcolor\":\"white\",\"polar\":{\"angularaxis\":{\"gridcolor\":\"#EBF0F8\",\"linecolor\":\"#EBF0F8\",\"ticks\":\"\"},\"bgcolor\":\"white\",\"radialaxis\":{\"gridcolor\":\"#EBF0F8\",\"linecolor\":\"#EBF0F8\",\"ticks\":\"\"}},\"scene\":{\"xaxis\":{\"backgroundcolor\":\"white\",\"gridcolor\":\"#DFE8F3\",\"gridwidth\":2,\"linecolor\":\"#EBF0F8\",\"showbackground\":true,\"ticks\":\"\",\"zerolinecolor\":\"#EBF0F8\"},\"yaxis\":{\"backgroundcolor\":\"white\",\"gridcolor\":\"#DFE8F3\",\"gridwidth\":2,\"linecolor\":\"#EBF0F8\",\"showbackground\":true,\"ticks\":\"\",\"zerolinecolor\":\"#EBF0F8\"},\"zaxis\":{\"backgroundcolor\":\"white\",\"gridcolor\":\"#DFE8F3\",\"gridwidth\":2,\"linecolor\":\"#EBF0F8\",\"showbackground\":true,\"ticks\":\"\",\"zerolinecolor\":\"#EBF0F8\"}},\"shapedefaults\":{\"line\":{\"color\":\"#2a3f5f\"}},\"ternary\":{\"aaxis\":{\"gridcolor\":\"#DFE8F3\",\"linecolor\":\"#A2B1C6\",\"ticks\":\"\"},\"baxis\":{\"gridcolor\":\"#DFE8F3\",\"linecolor\":\"#A2B1C6\",\"ticks\":\"\"},\"bgcolor\":\"white\",\"caxis\":{\"gridcolor\":\"#DFE8F3\",\"linecolor\":\"#A2B1C6\",\"ticks\":\"\"}},\"title\":{\"x\":0.05},\"xaxis\":{\"automargin\":true,\"gridcolor\":\"#EBF0F8\",\"linecolor\":\"#EBF0F8\",\"ticks\":\"\",\"title\":{\"standoff\":15},\"zerolinecolor\":\"#EBF0F8\",\"zerolinewidth\":2},\"yaxis\":{\"automargin\":true,\"gridcolor\":\"#EBF0F8\",\"linecolor\":\"#EBF0F8\",\"ticks\":\"\",\"title\":{\"standoff\":15},\"zerolinecolor\":\"#EBF0F8\",\"zerolinewidth\":2}}},\"geo\":{\"domain\":{\"x\":[0.0,1.0],\"y\":[0.0,1.0]},\"center\":{},\"showcoastlines\":true},\"coloraxis\":{\"colorbar\":{\"title\":{\"text\":\"Numero di Attori\"},\"lenmode\":\"pixels\",\"len\":400},\"colorscale\":[[0.0,\"#440154\"],[0.1111111111111111,\"#482878\"],[0.2222222222222222,\"#3e4989\"],[0.3333333333333333,\"#31688e\"],[0.4444444444444444,\"#26828e\"],[0.5555555555555556,\"#1f9e89\"],[0.6666666666666666,\"#35b779\"],[0.7777777777777778,\"#6ece58\"],[0.8888888888888888,\"#b5de2b\"],[1.0,\"#fde725\"]],\"cmin\":0,\"cmax\":25152},\"legend\":{\"tracegroupgap\":0},\"title\":{\"text\":\"Numero di attori per stato\\u003cbr\\u003eDati presi da Wikidata sugli attori dal 1920 al 2024\"},\"width\":900,\"height\":600},                        {\"responsive\": true}                    ).then(function(){\n",
       "                            \n",
       "var gd = document.getElementById('5ef7daa9-0450-4688-84aa-f2c50a564a58');\n",
       "var x = new MutationObserver(function (mutations, observer) {{\n",
       "        var display = window.getComputedStyle(gd).display;\n",
       "        if (!display || display === 'none') {{\n",
       "            console.log([gd, 'removed!']);\n",
       "            Plotly.purge(gd);\n",
       "            observer.disconnect();\n",
       "        }}\n",
       "}});\n",
       "\n",
       "// Listen for the removal of the full notebook cells\n",
       "var notebookContainer = gd.closest('#notebook-container');\n",
       "if (notebookContainer) {{\n",
       "    x.observe(notebookContainer, {childList: true});\n",
       "}}\n",
       "\n",
       "// Listen for the clearing of the current output cell\n",
       "var outputEl = gd.closest('.output');\n",
       "if (outputEl) {{\n",
       "    x.observe(outputEl, {childList: true});\n",
       "}}\n",
       "\n",
       "                        })                };                });            </script>        </div>"
      ]
     },
     "metadata": {},
     "output_type": "display_data"
    }
   ],
   "source": [
    "# Unimi 2023/2024\n",
    "# Progetto di Visualizzazione Scientifica\n",
    "# 984605 Pomayay Gabonal Angello Fernando \n",
    "# 01553A Mbaye Serigne Darou\n",
    "\n",
    "import pandas as pd\n",
    "import plotly.express as px\n",
    "\n",
    "# Leggi i dati CSV\n",
    "data = pd.read_csv(\"../actors.csv\")\n",
    "\n",
    "# Mappatura dei nomi dei paesi non standard o obsoleti\n",
    "country_mapping = {\n",
    "    \"British India\": \"India\",\n",
    "    \"Kingdom of Denmark\": \"Denmark\",\n",
    "    \"Tsardom of Russia\": \"Russia\",\n",
    "    \"Russian Empire\": \"Russia\",\n",
    "    \"Russian Socialist Federative Soviet Republic\": \"Russia\",\n",
    "    \"Russian Republic\": \"Russia\",\n",
    "    \"Russian State\": \"Russia\",\n",
    "    \"Second Polish Republic\": \"Poland\",\n",
    "    \"Polish–Lithuanian Commonwealth\": \"Poland\",\n",
    "    \"Polish People's Republic\": \"Poland\",\n",
    "    \"Macedonia\": \"North Macedonia\",\n",
    "    \"United Kingdom of Great Britain and Ireland\": \"United Kingdom\",\n",
    "    \"Kingdom of Great Britain\": \"United Kingdom\",\n",
    "    \"Mandatory Palestine\": \"Palestine\",\n",
    "    \"State of Palestine\": \"Palestine\",\n",
    "    \"Israeli-occupied territories\": \"Palestine\",\n",
    "    \"Kingdom of Romania\": \"Romania\",\n",
    "    \"Union of Bessarabia with Romania\": \"Romania\",\n",
    "    \"Socialist Republic of Romania\": \"Romania\",\n",
    "    \"Romanian People's Republic\": \"Romania\",\n",
    "    \"Nazi Germany\": \"Germany\",\n",
    "    \"West Germany\": \"Germany\",\n",
    "    \"Allied-occupied Germany\": \"Germany\"\n",
    "}\n",
    "\n",
    "# Sostituisco i nomi dei paesi nel DataFrame\n",
    "data['birthCountryLabel'] = data['birthCountryLabel'].replace(country_mapping)\n",
    "\n",
    "# Conteggio il numero di attori per ogni stato\n",
    "actors_per_country = data['birthCountryLabel'].value_counts().reset_index()\n",
    "actors_per_country.columns = ['Country', 'Actor Count']\n",
    "\n",
    "# Imposto il valore massimo della scala colori\n",
    "max_value = actors_per_country['Actor Count'].max()\n",
    "\n",
    "# Creazione della mappa\n",
    "fig = px.choropleth(actors_per_country, \n",
    "                    locations=\"Country\", \n",
    "                    locationmode='country names',\n",
    "                    color=\"Actor Count\",\n",
    "                    color_continuous_scale=px.colors.sequential.Viridis,\n",
    "                    title=\"Numero di attori per stato<br>Dati presi da Wikidata sugli attori dal 1920 al 2024\",\n",
    "                    labels={'Actor Count':'Numero di Attori'},\n",
    "                    range_color=(0, max_value),\n",
    "                    )\n",
    "\n",
    "fig.update_layout(\n",
    "    geo=dict(\n",
    "        showcoastlines=True,\n",
    "    ),\n",
    "    width=900, \n",
    "    height=600,\n",
    "    coloraxis_colorbar=dict(\n",
    "        lenmode='pixels',\n",
    "        len=400,\n",
    "    ),\n",
    "    template=\"plotly_white\"\n",
    ")\n",
    "\n",
    "fig.write_html(\"../file_html/actors_map_interactive_light.html\")\n",
    "fig.show()\n"
   ]
  }
 ],
 "metadata": {
  "kernelspec": {
   "display_name": "Python 3 (ipykernel)",
   "language": "python",
   "name": "python3"
  },
  "language_info": {
   "codemirror_mode": {
    "name": "ipython",
    "version": 3
   },
   "file_extension": ".py",
   "mimetype": "text/x-python",
   "name": "python",
   "nbconvert_exporter": "python",
   "pygments_lexer": "ipython3",
   "version": "3.9.13"
  }
 },
 "nbformat": 4,
 "nbformat_minor": 5
}
