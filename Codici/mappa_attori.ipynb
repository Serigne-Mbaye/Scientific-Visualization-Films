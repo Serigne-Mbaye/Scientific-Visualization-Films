{
 "cells": [
  {
   "cell_type": "code",
   "execution_count": null,
   "id": "9eedae42-c9fc-456d-a84b-4be0993c069c",
   "metadata": {
    "ExecuteTime": {
     "end_time": "2024-02-06T11:15:36.263985400Z",
     "start_time": "2024-02-06T11:15:33.674780600Z"
    }
   },
   "outputs": [],
   "source": [
    "# Unimi 2023/2024\n",
    "# Progetto di Visualizzazione Scientifica\n",
    "# 984605 Pomayay Gabonal Angello Fernando \n",
    "# 01553A Mbaye Serigne Darou\n",
    "\n",
    "import pandas as pd\n",
    "import plotly.express as px\n",
    "\n",
    "# Leggi i dati CSV\n",
    "data = pd.read_csv(\"../actors.csv\")\n",
    "\n",
    "# Mappatura dei nomi dei paesi non standard o obsoleti\n",
    "country_mapping = {\n",
    "    \"British India\": \"India\",\n",
    "    \"Kingdom of Denmark\": \"Denmark\",\n",
    "    \"Tsardom of Russia\": \"Russia\",\n",
    "    \"Russian Empire\": \"Russia\",\n",
    "    \"Russian Socialist Federative Soviet Republic\": \"Russia\",\n",
    "    \"Russian Republic\": \"Russia\",\n",
    "    \"Russian State\": \"Russia\",\n",
    "    \"Second Polish Republic\": \"Poland\",\n",
    "    \"Polish–Lithuanian Commonwealth\": \"Poland\",\n",
    "    \"Polish People's Republic\": \"Poland\",\n",
    "    \"Macedonia\": \"North Macedonia\",\n",
    "    \"United Kingdom of Great Britain and Ireland\": \"United Kingdom\",\n",
    "    \"Kingdom of Great Britain\": \"United Kingdom\",\n",
    "    \"Mandatory Palestine\": \"Palestine\",\n",
    "    \"State of Palestine\": \"Palestine\",\n",
    "    \"Israeli-occupied territories\": \"Palestine\",\n",
    "    \"Kingdom of Romania\": \"Romania\",\n",
    "    \"Union of Bessarabia with Romania\": \"Romania\",\n",
    "    \"Socialist Republic of Romania\": \"Romania\",\n",
    "    \"Romanian People's Republic\": \"Romania\",\n",
    "    \"Nazi Germany\": \"Germany\",\n",
    "    \"West Germany\": \"Germany\",\n",
    "    \"Allied-occupied Germany\": \"Germany\"\n",
    "}\n",
    "\n",
    "# Sostituisco i nomi dei paesi nel DataFrame\n",
    "data['birthCountryLabel'] = data['birthCountryLabel'].replace(country_mapping)\n",
    "\n",
    "# Conteggio il numero di attori per ogni stato\n",
    "actors_per_country = data['birthCountryLabel'].value_counts().reset_index()\n",
    "actors_per_country.columns = ['Country', 'Actor Count']\n",
    "\n",
    "# Imposto il valore massimo della scala colori\n",
    "max_value = actors_per_country['Actor Count'].max()\n",
    "\n",
    "# Creazione della mappa\n",
    "fig = px.choropleth(actors_per_country, \n",
    "                    locations=\"Country\", \n",
    "                    locationmode='country names',\n",
    "                    color=\"Actor Count\",\n",
    "                    color_continuous_scale=px.colors.sequential.Viridis,\n",
    "                    title=\"Numero di attori per stato<br>Dati presi da Wikidata sugli attori dal 1920 al 2024\",\n",
    "                    labels={'Actor Count':'Numero di Attori'},\n",
    "                    range_color=(0, max_value),\n",
    "                    )\n",
    "\n",
    "fig.update_layout(\n",
    "    geo=dict(\n",
    "        showcoastlines=True,\n",
    "    ),\n",
    "    width=900, \n",
    "    height=600,\n",
    "    coloraxis_colorbar=dict(\n",
    "        lenmode='pixels',\n",
    "        len=400,\n",
    "    ),\n",
    "    template=\"plotly_white\"\n",
    ")\n",
    "\n",
    "fig.write_html(\"../file_html/actors_map_interactive_light.html\")\n",
    "fig.show()\n"
   ]
  },
  {
   "cell_type": "code",
   "execution_count": null,
   "id": "f507f902232ec386",
   "metadata": {
    "collapsed": false,
    "jupyter": {
     "outputs_hidden": false
    }
   },
   "outputs": [],
   "source": []
  }
 ],
 "metadata": {
  "kernelspec": {
   "display_name": "Python 3 (ipykernel)",
   "language": "python",
   "name": "python3"
  },
  "language_info": {
   "codemirror_mode": {
    "name": "ipython",
    "version": 3
   },
   "file_extension": ".py",
   "mimetype": "text/x-python",
   "name": "python",
   "nbconvert_exporter": "python",
   "pygments_lexer": "ipython3",
   "version": "3.9.13"
  }
 },
 "nbformat": 4,
 "nbformat_minor": 5
}
