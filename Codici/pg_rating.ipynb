{
 "cells": [
  {
   "cell_type": "code",
   "execution_count": null,
   "id": "b2476c24-8270-43ab-85e3-aa27c412e314",
   "metadata": {
    "ExecuteTime": {
     "end_time": "2024-02-06T10:42:10.951630400Z",
     "start_time": "2024-02-06T10:42:05.483234900Z"
    }
   },
   "outputs": [],
   "source": [
    "# Unimi 2023/2024\n",
    "# Progetto di Visualizzazione Scientifica\n",
    "# 984605 Pomayay Gabonal Angello Fernando \n",
    "# 01553A Mbaye Serigne Darou\n",
    "\n",
    "import pandas as pd\n",
    "import plotly.express as px\n",
    "\n",
    "# Soppressione degli avvertimenti\n",
    "import warnings\n",
    "warnings.simplefilter(action='ignore', category=FutureWarning)\n",
    "\n",
    "# Lettura del csv\n",
    "file_path = \"../movies_r.csv\"\n",
    "df = pd.read_csv(file_path)\n",
    "\n",
    "# Calcolo la distribuzione della classificazione PG\n",
    "pg_distribution = df['PG Rating'].value_counts().reset_index()\n",
    "pg_distribution.columns = ['PG Rating', 'Count']\n",
    "\n",
    "# Creazione del grafico a barre\n",
    "color_map = {}\n",
    "for pg_rating in pg_distribution['PG Rating']:\n",
    "    color_map[pg_rating] = px.colors.qualitative.Alphabet[pg_distribution['PG Rating'].tolist().index(pg_rating)]\n",
    "\n",
    "fig = px.bar(pg_distribution, x='PG Rating', y='Count',\n",
    "             title='Distribuzione dei Film per Classificazione PG<br>Dati presi dal Dataset di Kaggle di 1950 tuple',\n",
    "             labels={'Count': 'Numero di Film', 'PG Rating': 'Classificazione PG'},\n",
    "             color='PG Rating', color_discrete_map=color_map,\n",
    "             template='plotly_white'\n",
    "            )  \n",
    "fig.update_layout(width=1000, height=600)\n",
    "\n",
    "fig.write_html(\"../file_html/pg_rating.html\")\n",
    "fig.show()\n"
   ]
  },
  {
   "cell_type": "markdown",
   "id": "a4ad1f01-375a-4b1e-bd55-7d363f7b01ed",
   "metadata": {
    "collapsed": false,
    "jupyter": {
     "outputs_hidden": false
    }
   },
   "source": []
  }
 ],
 "metadata": {
  "kernelspec": {
   "display_name": "Python 3 (ipykernel)",
   "language": "python",
   "name": "python3"
  },
  "language_info": {
   "codemirror_mode": {
    "name": "ipython",
    "version": 3
   },
   "file_extension": ".py",
   "mimetype": "text/x-python",
   "name": "python",
   "nbconvert_exporter": "python",
   "pygments_lexer": "ipython3",
   "version": "3.9.13"
  }
 },
 "nbformat": 4,
 "nbformat_minor": 5
}
