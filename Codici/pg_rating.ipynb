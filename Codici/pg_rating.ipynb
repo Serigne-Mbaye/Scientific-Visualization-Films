# Unimi 2023/2024
# Progetto di Visualizzazione Scientifica
# 984605 Pomayay Gabonal Angello Fernando 
# 01553A Mbaye Serigne Darou

import pandas as pd
import plotly.express as px

# Soppressione degli avvertimenti
import warnings
warnings.simplefilter(action='ignore', category=FutureWarning)

# Lettura del csv
file_path = "../movies_r.csv"
df = pd.read_csv(file_path)

# Calcolo la distribuzione della classificazione PG
pg_distribution = df['PG Rating'].value_counts().reset_index()
pg_distribution.columns = ['PG Rating', 'Count']

# Creazione del grafico a barre
color_map = {}
for pg_rating in pg_distribution['PG Rating']:
    color_map[pg_rating] = px.colors.qualitative.Alphabet[pg_distribution['PG Rating'].tolist().index(pg_rating)]

fig = px.bar(pg_distribution, x='PG Rating', y='Count',
             title='Distribuzione dei Film per Classificazione PG<br>Dati presi dal Dataset di Kaggle di 1950 tuple',
             labels={'Count': 'Numero di Film', 'PG Rating': 'Classificazione PG'},
             color='PG Rating', color_discrete_map=color_map,
             template='plotly_white'
            )  
fig.update_layout(width=1000, height=600)

fig.write_html("../file_html/pg_rating.html")
fig.show()
